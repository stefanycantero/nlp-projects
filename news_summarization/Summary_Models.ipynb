{
  "nbformat": 4,
  "nbformat_minor": 0,
  "metadata": {
    "colab": {
      "provenance": [],
      "gpuType": "T4"
    },
    "kernelspec": {
      "name": "python3",
      "display_name": "Python 3"
    },
    "language_info": {
      "name": "python"
    },
    "accelerator": "GPU",
    "widgets": {
      "application/vnd.jupyter.widget-state+json": {
        "dbfff8d7e0434a41b2d5e98863b9a362": {
          "model_module": "@jupyter-widgets/controls",
          "model_name": "HBoxModel",
          "model_module_version": "1.5.0",
          "state": {
            "_dom_classes": [],
            "_model_module": "@jupyter-widgets/controls",
            "_model_module_version": "1.5.0",
            "_model_name": "HBoxModel",
            "_view_count": null,
            "_view_module": "@jupyter-widgets/controls",
            "_view_module_version": "1.5.0",
            "_view_name": "HBoxView",
            "box_style": "",
            "children": [
              "IPY_MODEL_8ab7d0f3bc7b4f189d17ab012d670db7",
              "IPY_MODEL_4e8e63b519e34cd88d41538c41a5dc92",
              "IPY_MODEL_1971be19d1a24c50b9ded63ab1f3da61"
            ],
            "layout": "IPY_MODEL_cd499d4f34ef46a78f867ec9d4ca144e"
          }
        },
        "8ab7d0f3bc7b4f189d17ab012d670db7": {
          "model_module": "@jupyter-widgets/controls",
          "model_name": "HTMLModel",
          "model_module_version": "1.5.0",
          "state": {
            "_dom_classes": [],
            "_model_module": "@jupyter-widgets/controls",
            "_model_module_version": "1.5.0",
            "_model_name": "HTMLModel",
            "_view_count": null,
            "_view_module": "@jupyter-widgets/controls",
            "_view_module_version": "1.5.0",
            "_view_name": "HTMLView",
            "description": "",
            "description_tooltip": null,
            "layout": "IPY_MODEL_13f373a24c7b47c4ae7e41e441ae2281",
            "placeholder": "​",
            "style": "IPY_MODEL_e2d0937b76924b6fafd2bd064a6e9ee2",
            "value": "config.json: 100%"
          }
        },
        "4e8e63b519e34cd88d41538c41a5dc92": {
          "model_module": "@jupyter-widgets/controls",
          "model_name": "FloatProgressModel",
          "model_module_version": "1.5.0",
          "state": {
            "_dom_classes": [],
            "_model_module": "@jupyter-widgets/controls",
            "_model_module_version": "1.5.0",
            "_model_name": "FloatProgressModel",
            "_view_count": null,
            "_view_module": "@jupyter-widgets/controls",
            "_view_module_version": "1.5.0",
            "_view_name": "ProgressView",
            "bar_style": "success",
            "description": "",
            "description_tooltip": null,
            "layout": "IPY_MODEL_ac7fca7124cb44f882051ff0532470ed",
            "max": 1206,
            "min": 0,
            "orientation": "horizontal",
            "style": "IPY_MODEL_64272e8bd3334572adde1cd01b278825",
            "value": 1206
          }
        },
        "1971be19d1a24c50b9ded63ab1f3da61": {
          "model_module": "@jupyter-widgets/controls",
          "model_name": "HTMLModel",
          "model_module_version": "1.5.0",
          "state": {
            "_dom_classes": [],
            "_model_module": "@jupyter-widgets/controls",
            "_model_module_version": "1.5.0",
            "_model_name": "HTMLModel",
            "_view_count": null,
            "_view_module": "@jupyter-widgets/controls",
            "_view_module_version": "1.5.0",
            "_view_name": "HTMLView",
            "description": "",
            "description_tooltip": null,
            "layout": "IPY_MODEL_d31ab1d4da114943aa7f480cb5312f1d",
            "placeholder": "​",
            "style": "IPY_MODEL_537a7c71853e40c8be2be5565f30a1f7",
            "value": " 1.21k/1.21k [00:00&lt;00:00, 30.3kB/s]"
          }
        },
        "cd499d4f34ef46a78f867ec9d4ca144e": {
          "model_module": "@jupyter-widgets/base",
          "model_name": "LayoutModel",
          "model_module_version": "1.2.0",
          "state": {
            "_model_module": "@jupyter-widgets/base",
            "_model_module_version": "1.2.0",
            "_model_name": "LayoutModel",
            "_view_count": null,
            "_view_module": "@jupyter-widgets/base",
            "_view_module_version": "1.2.0",
            "_view_name": "LayoutView",
            "align_content": null,
            "align_items": null,
            "align_self": null,
            "border": null,
            "bottom": null,
            "display": null,
            "flex": null,
            "flex_flow": null,
            "grid_area": null,
            "grid_auto_columns": null,
            "grid_auto_flow": null,
            "grid_auto_rows": null,
            "grid_column": null,
            "grid_gap": null,
            "grid_row": null,
            "grid_template_areas": null,
            "grid_template_columns": null,
            "grid_template_rows": null,
            "height": null,
            "justify_content": null,
            "justify_items": null,
            "left": null,
            "margin": null,
            "max_height": null,
            "max_width": null,
            "min_height": null,
            "min_width": null,
            "object_fit": null,
            "object_position": null,
            "order": null,
            "overflow": null,
            "overflow_x": null,
            "overflow_y": null,
            "padding": null,
            "right": null,
            "top": null,
            "visibility": null,
            "width": null
          }
        },
        "13f373a24c7b47c4ae7e41e441ae2281": {
          "model_module": "@jupyter-widgets/base",
          "model_name": "LayoutModel",
          "model_module_version": "1.2.0",
          "state": {
            "_model_module": "@jupyter-widgets/base",
            "_model_module_version": "1.2.0",
            "_model_name": "LayoutModel",
            "_view_count": null,
            "_view_module": "@jupyter-widgets/base",
            "_view_module_version": "1.2.0",
            "_view_name": "LayoutView",
            "align_content": null,
            "align_items": null,
            "align_self": null,
            "border": null,
            "bottom": null,
            "display": null,
            "flex": null,
            "flex_flow": null,
            "grid_area": null,
            "grid_auto_columns": null,
            "grid_auto_flow": null,
            "grid_auto_rows": null,
            "grid_column": null,
            "grid_gap": null,
            "grid_row": null,
            "grid_template_areas": null,
            "grid_template_columns": null,
            "grid_template_rows": null,
            "height": null,
            "justify_content": null,
            "justify_items": null,
            "left": null,
            "margin": null,
            "max_height": null,
            "max_width": null,
            "min_height": null,
            "min_width": null,
            "object_fit": null,
            "object_position": null,
            "order": null,
            "overflow": null,
            "overflow_x": null,
            "overflow_y": null,
            "padding": null,
            "right": null,
            "top": null,
            "visibility": null,
            "width": null
          }
        },
        "e2d0937b76924b6fafd2bd064a6e9ee2": {
          "model_module": "@jupyter-widgets/controls",
          "model_name": "DescriptionStyleModel",
          "model_module_version": "1.5.0",
          "state": {
            "_model_module": "@jupyter-widgets/controls",
            "_model_module_version": "1.5.0",
            "_model_name": "DescriptionStyleModel",
            "_view_count": null,
            "_view_module": "@jupyter-widgets/base",
            "_view_module_version": "1.2.0",
            "_view_name": "StyleView",
            "description_width": ""
          }
        },
        "ac7fca7124cb44f882051ff0532470ed": {
          "model_module": "@jupyter-widgets/base",
          "model_name": "LayoutModel",
          "model_module_version": "1.2.0",
          "state": {
            "_model_module": "@jupyter-widgets/base",
            "_model_module_version": "1.2.0",
            "_model_name": "LayoutModel",
            "_view_count": null,
            "_view_module": "@jupyter-widgets/base",
            "_view_module_version": "1.2.0",
            "_view_name": "LayoutView",
            "align_content": null,
            "align_items": null,
            "align_self": null,
            "border": null,
            "bottom": null,
            "display": null,
            "flex": null,
            "flex_flow": null,
            "grid_area": null,
            "grid_auto_columns": null,
            "grid_auto_flow": null,
            "grid_auto_rows": null,
            "grid_column": null,
            "grid_gap": null,
            "grid_row": null,
            "grid_template_areas": null,
            "grid_template_columns": null,
            "grid_template_rows": null,
            "height": null,
            "justify_content": null,
            "justify_items": null,
            "left": null,
            "margin": null,
            "max_height": null,
            "max_width": null,
            "min_height": null,
            "min_width": null,
            "object_fit": null,
            "object_position": null,
            "order": null,
            "overflow": null,
            "overflow_x": null,
            "overflow_y": null,
            "padding": null,
            "right": null,
            "top": null,
            "visibility": null,
            "width": null
          }
        },
        "64272e8bd3334572adde1cd01b278825": {
          "model_module": "@jupyter-widgets/controls",
          "model_name": "ProgressStyleModel",
          "model_module_version": "1.5.0",
          "state": {
            "_model_module": "@jupyter-widgets/controls",
            "_model_module_version": "1.5.0",
            "_model_name": "ProgressStyleModel",
            "_view_count": null,
            "_view_module": "@jupyter-widgets/base",
            "_view_module_version": "1.2.0",
            "_view_name": "StyleView",
            "bar_color": null,
            "description_width": ""
          }
        },
        "d31ab1d4da114943aa7f480cb5312f1d": {
          "model_module": "@jupyter-widgets/base",
          "model_name": "LayoutModel",
          "model_module_version": "1.2.0",
          "state": {
            "_model_module": "@jupyter-widgets/base",
            "_model_module_version": "1.2.0",
            "_model_name": "LayoutModel",
            "_view_count": null,
            "_view_module": "@jupyter-widgets/base",
            "_view_module_version": "1.2.0",
            "_view_name": "LayoutView",
            "align_content": null,
            "align_items": null,
            "align_self": null,
            "border": null,
            "bottom": null,
            "display": null,
            "flex": null,
            "flex_flow": null,
            "grid_area": null,
            "grid_auto_columns": null,
            "grid_auto_flow": null,
            "grid_auto_rows": null,
            "grid_column": null,
            "grid_gap": null,
            "grid_row": null,
            "grid_template_areas": null,
            "grid_template_columns": null,
            "grid_template_rows": null,
            "height": null,
            "justify_content": null,
            "justify_items": null,
            "left": null,
            "margin": null,
            "max_height": null,
            "max_width": null,
            "min_height": null,
            "min_width": null,
            "object_fit": null,
            "object_position": null,
            "order": null,
            "overflow": null,
            "overflow_x": null,
            "overflow_y": null,
            "padding": null,
            "right": null,
            "top": null,
            "visibility": null,
            "width": null
          }
        },
        "537a7c71853e40c8be2be5565f30a1f7": {
          "model_module": "@jupyter-widgets/controls",
          "model_name": "DescriptionStyleModel",
          "model_module_version": "1.5.0",
          "state": {
            "_model_module": "@jupyter-widgets/controls",
            "_model_module_version": "1.5.0",
            "_model_name": "DescriptionStyleModel",
            "_view_count": null,
            "_view_module": "@jupyter-widgets/base",
            "_view_module_version": "1.2.0",
            "_view_name": "StyleView",
            "description_width": ""
          }
        },
        "ae3116c5fdde42e48acff2ad200ba81e": {
          "model_module": "@jupyter-widgets/controls",
          "model_name": "HBoxModel",
          "model_module_version": "1.5.0",
          "state": {
            "_dom_classes": [],
            "_model_module": "@jupyter-widgets/controls",
            "_model_module_version": "1.5.0",
            "_model_name": "HBoxModel",
            "_view_count": null,
            "_view_module": "@jupyter-widgets/controls",
            "_view_module_version": "1.5.0",
            "_view_name": "HBoxView",
            "box_style": "",
            "children": [
              "IPY_MODEL_e166c35eeb78476d918ceff23a5d7cb4",
              "IPY_MODEL_fcd4864a58114573ae551882730b5011",
              "IPY_MODEL_ea17d369d21a480fb1e96f9548a2cfe4"
            ],
            "layout": "IPY_MODEL_71e385c5149043139cf56d622a7c3be6"
          }
        },
        "e166c35eeb78476d918ceff23a5d7cb4": {
          "model_module": "@jupyter-widgets/controls",
          "model_name": "HTMLModel",
          "model_module_version": "1.5.0",
          "state": {
            "_dom_classes": [],
            "_model_module": "@jupyter-widgets/controls",
            "_model_module_version": "1.5.0",
            "_model_name": "HTMLModel",
            "_view_count": null,
            "_view_module": "@jupyter-widgets/controls",
            "_view_module_version": "1.5.0",
            "_view_name": "HTMLView",
            "description": "",
            "description_tooltip": null,
            "layout": "IPY_MODEL_de8b9f884dd048a791f38341187359ac",
            "placeholder": "​",
            "style": "IPY_MODEL_ac8f17c2989a46039e78c7ee58f038db",
            "value": "model.safetensors: 100%"
          }
        },
        "fcd4864a58114573ae551882730b5011": {
          "model_module": "@jupyter-widgets/controls",
          "model_name": "FloatProgressModel",
          "model_module_version": "1.5.0",
          "state": {
            "_dom_classes": [],
            "_model_module": "@jupyter-widgets/controls",
            "_model_module_version": "1.5.0",
            "_model_name": "FloatProgressModel",
            "_view_count": null,
            "_view_module": "@jupyter-widgets/controls",
            "_view_module_version": "1.5.0",
            "_view_name": "ProgressView",
            "bar_style": "success",
            "description": "",
            "description_tooltip": null,
            "layout": "IPY_MODEL_f401c072bacc45aeba5df0c45f746e2a",
            "max": 242043056,
            "min": 0,
            "orientation": "horizontal",
            "style": "IPY_MODEL_20036ace35cd4acbb136a03989507af8",
            "value": 242043056
          }
        },
        "ea17d369d21a480fb1e96f9548a2cfe4": {
          "model_module": "@jupyter-widgets/controls",
          "model_name": "HTMLModel",
          "model_module_version": "1.5.0",
          "state": {
            "_dom_classes": [],
            "_model_module": "@jupyter-widgets/controls",
            "_model_module_version": "1.5.0",
            "_model_name": "HTMLModel",
            "_view_count": null,
            "_view_module": "@jupyter-widgets/controls",
            "_view_module_version": "1.5.0",
            "_view_name": "HTMLView",
            "description": "",
            "description_tooltip": null,
            "layout": "IPY_MODEL_81ad7a7c8baa4e75826d8e4603cd2676",
            "placeholder": "​",
            "style": "IPY_MODEL_d86bc2d4a52849f5a4dc0220dea219be",
            "value": " 242M/242M [00:01&lt;00:00, 135MB/s]"
          }
        },
        "71e385c5149043139cf56d622a7c3be6": {
          "model_module": "@jupyter-widgets/base",
          "model_name": "LayoutModel",
          "model_module_version": "1.2.0",
          "state": {
            "_model_module": "@jupyter-widgets/base",
            "_model_module_version": "1.2.0",
            "_model_name": "LayoutModel",
            "_view_count": null,
            "_view_module": "@jupyter-widgets/base",
            "_view_module_version": "1.2.0",
            "_view_name": "LayoutView",
            "align_content": null,
            "align_items": null,
            "align_self": null,
            "border": null,
            "bottom": null,
            "display": null,
            "flex": null,
            "flex_flow": null,
            "grid_area": null,
            "grid_auto_columns": null,
            "grid_auto_flow": null,
            "grid_auto_rows": null,
            "grid_column": null,
            "grid_gap": null,
            "grid_row": null,
            "grid_template_areas": null,
            "grid_template_columns": null,
            "grid_template_rows": null,
            "height": null,
            "justify_content": null,
            "justify_items": null,
            "left": null,
            "margin": null,
            "max_height": null,
            "max_width": null,
            "min_height": null,
            "min_width": null,
            "object_fit": null,
            "object_position": null,
            "order": null,
            "overflow": null,
            "overflow_x": null,
            "overflow_y": null,
            "padding": null,
            "right": null,
            "top": null,
            "visibility": null,
            "width": null
          }
        },
        "de8b9f884dd048a791f38341187359ac": {
          "model_module": "@jupyter-widgets/base",
          "model_name": "LayoutModel",
          "model_module_version": "1.2.0",
          "state": {
            "_model_module": "@jupyter-widgets/base",
            "_model_module_version": "1.2.0",
            "_model_name": "LayoutModel",
            "_view_count": null,
            "_view_module": "@jupyter-widgets/base",
            "_view_module_version": "1.2.0",
            "_view_name": "LayoutView",
            "align_content": null,
            "align_items": null,
            "align_self": null,
            "border": null,
            "bottom": null,
            "display": null,
            "flex": null,
            "flex_flow": null,
            "grid_area": null,
            "grid_auto_columns": null,
            "grid_auto_flow": null,
            "grid_auto_rows": null,
            "grid_column": null,
            "grid_gap": null,
            "grid_row": null,
            "grid_template_areas": null,
            "grid_template_columns": null,
            "grid_template_rows": null,
            "height": null,
            "justify_content": null,
            "justify_items": null,
            "left": null,
            "margin": null,
            "max_height": null,
            "max_width": null,
            "min_height": null,
            "min_width": null,
            "object_fit": null,
            "object_position": null,
            "order": null,
            "overflow": null,
            "overflow_x": null,
            "overflow_y": null,
            "padding": null,
            "right": null,
            "top": null,
            "visibility": null,
            "width": null
          }
        },
        "ac8f17c2989a46039e78c7ee58f038db": {
          "model_module": "@jupyter-widgets/controls",
          "model_name": "DescriptionStyleModel",
          "model_module_version": "1.5.0",
          "state": {
            "_model_module": "@jupyter-widgets/controls",
            "_model_module_version": "1.5.0",
            "_model_name": "DescriptionStyleModel",
            "_view_count": null,
            "_view_module": "@jupyter-widgets/base",
            "_view_module_version": "1.2.0",
            "_view_name": "StyleView",
            "description_width": ""
          }
        },
        "f401c072bacc45aeba5df0c45f746e2a": {
          "model_module": "@jupyter-widgets/base",
          "model_name": "LayoutModel",
          "model_module_version": "1.2.0",
          "state": {
            "_model_module": "@jupyter-widgets/base",
            "_model_module_version": "1.2.0",
            "_model_name": "LayoutModel",
            "_view_count": null,
            "_view_module": "@jupyter-widgets/base",
            "_view_module_version": "1.2.0",
            "_view_name": "LayoutView",
            "align_content": null,
            "align_items": null,
            "align_self": null,
            "border": null,
            "bottom": null,
            "display": null,
            "flex": null,
            "flex_flow": null,
            "grid_area": null,
            "grid_auto_columns": null,
            "grid_auto_flow": null,
            "grid_auto_rows": null,
            "grid_column": null,
            "grid_gap": null,
            "grid_row": null,
            "grid_template_areas": null,
            "grid_template_columns": null,
            "grid_template_rows": null,
            "height": null,
            "justify_content": null,
            "justify_items": null,
            "left": null,
            "margin": null,
            "max_height": null,
            "max_width": null,
            "min_height": null,
            "min_width": null,
            "object_fit": null,
            "object_position": null,
            "order": null,
            "overflow": null,
            "overflow_x": null,
            "overflow_y": null,
            "padding": null,
            "right": null,
            "top": null,
            "visibility": null,
            "width": null
          }
        },
        "20036ace35cd4acbb136a03989507af8": {
          "model_module": "@jupyter-widgets/controls",
          "model_name": "ProgressStyleModel",
          "model_module_version": "1.5.0",
          "state": {
            "_model_module": "@jupyter-widgets/controls",
            "_model_module_version": "1.5.0",
            "_model_name": "ProgressStyleModel",
            "_view_count": null,
            "_view_module": "@jupyter-widgets/base",
            "_view_module_version": "1.2.0",
            "_view_name": "StyleView",
            "bar_color": null,
            "description_width": ""
          }
        },
        "81ad7a7c8baa4e75826d8e4603cd2676": {
          "model_module": "@jupyter-widgets/base",
          "model_name": "LayoutModel",
          "model_module_version": "1.2.0",
          "state": {
            "_model_module": "@jupyter-widgets/base",
            "_model_module_version": "1.2.0",
            "_model_name": "LayoutModel",
            "_view_count": null,
            "_view_module": "@jupyter-widgets/base",
            "_view_module_version": "1.2.0",
            "_view_name": "LayoutView",
            "align_content": null,
            "align_items": null,
            "align_self": null,
            "border": null,
            "bottom": null,
            "display": null,
            "flex": null,
            "flex_flow": null,
            "grid_area": null,
            "grid_auto_columns": null,
            "grid_auto_flow": null,
            "grid_auto_rows": null,
            "grid_column": null,
            "grid_gap": null,
            "grid_row": null,
            "grid_template_areas": null,
            "grid_template_columns": null,
            "grid_template_rows": null,
            "height": null,
            "justify_content": null,
            "justify_items": null,
            "left": null,
            "margin": null,
            "max_height": null,
            "max_width": null,
            "min_height": null,
            "min_width": null,
            "object_fit": null,
            "object_position": null,
            "order": null,
            "overflow": null,
            "overflow_x": null,
            "overflow_y": null,
            "padding": null,
            "right": null,
            "top": null,
            "visibility": null,
            "width": null
          }
        },
        "d86bc2d4a52849f5a4dc0220dea219be": {
          "model_module": "@jupyter-widgets/controls",
          "model_name": "DescriptionStyleModel",
          "model_module_version": "1.5.0",
          "state": {
            "_model_module": "@jupyter-widgets/controls",
            "_model_module_version": "1.5.0",
            "_model_name": "DescriptionStyleModel",
            "_view_count": null,
            "_view_module": "@jupyter-widgets/base",
            "_view_module_version": "1.2.0",
            "_view_name": "StyleView",
            "description_width": ""
          }
        },
        "64530f55980441ddbffd2fb5d9fdd340": {
          "model_module": "@jupyter-widgets/controls",
          "model_name": "HBoxModel",
          "model_module_version": "1.5.0",
          "state": {
            "_dom_classes": [],
            "_model_module": "@jupyter-widgets/controls",
            "_model_module_version": "1.5.0",
            "_model_name": "HBoxModel",
            "_view_count": null,
            "_view_module": "@jupyter-widgets/controls",
            "_view_module_version": "1.5.0",
            "_view_name": "HBoxView",
            "box_style": "",
            "children": [
              "IPY_MODEL_4e1e36078d6d440aa19cc45e84ee8f34",
              "IPY_MODEL_18573ec92b50413f938663a21a6fa209",
              "IPY_MODEL_fc5a4c9dc28f4c06981571366755b41b"
            ],
            "layout": "IPY_MODEL_cac20aa727bf43ceaefdd237bdab4823"
          }
        },
        "4e1e36078d6d440aa19cc45e84ee8f34": {
          "model_module": "@jupyter-widgets/controls",
          "model_name": "HTMLModel",
          "model_module_version": "1.5.0",
          "state": {
            "_dom_classes": [],
            "_model_module": "@jupyter-widgets/controls",
            "_model_module_version": "1.5.0",
            "_model_name": "HTMLModel",
            "_view_count": null,
            "_view_module": "@jupyter-widgets/controls",
            "_view_module_version": "1.5.0",
            "_view_name": "HTMLView",
            "description": "",
            "description_tooltip": null,
            "layout": "IPY_MODEL_078ac87006d444c49a44ac4ded0bba4b",
            "placeholder": "​",
            "style": "IPY_MODEL_1ae1d27bb63348a0b953481fe8c6c3e3",
            "value": "generation_config.json: 100%"
          }
        },
        "18573ec92b50413f938663a21a6fa209": {
          "model_module": "@jupyter-widgets/controls",
          "model_name": "FloatProgressModel",
          "model_module_version": "1.5.0",
          "state": {
            "_dom_classes": [],
            "_model_module": "@jupyter-widgets/controls",
            "_model_module_version": "1.5.0",
            "_model_name": "FloatProgressModel",
            "_view_count": null,
            "_view_module": "@jupyter-widgets/controls",
            "_view_module_version": "1.5.0",
            "_view_name": "ProgressView",
            "bar_style": "success",
            "description": "",
            "description_tooltip": null,
            "layout": "IPY_MODEL_a2b991febb414c059555c99c58bbad9b",
            "max": 147,
            "min": 0,
            "orientation": "horizontal",
            "style": "IPY_MODEL_a349aca044794448b1a9ca1b9758dbf2",
            "value": 147
          }
        },
        "fc5a4c9dc28f4c06981571366755b41b": {
          "model_module": "@jupyter-widgets/controls",
          "model_name": "HTMLModel",
          "model_module_version": "1.5.0",
          "state": {
            "_dom_classes": [],
            "_model_module": "@jupyter-widgets/controls",
            "_model_module_version": "1.5.0",
            "_model_name": "HTMLModel",
            "_view_count": null,
            "_view_module": "@jupyter-widgets/controls",
            "_view_module_version": "1.5.0",
            "_view_name": "HTMLView",
            "description": "",
            "description_tooltip": null,
            "layout": "IPY_MODEL_b06927a708ee451f85f13a1ff4707071",
            "placeholder": "​",
            "style": "IPY_MODEL_b1cf2e0c60c44edc9f3e3ee8c2a54fd9",
            "value": " 147/147 [00:00&lt;00:00, 3.66kB/s]"
          }
        },
        "cac20aa727bf43ceaefdd237bdab4823": {
          "model_module": "@jupyter-widgets/base",
          "model_name": "LayoutModel",
          "model_module_version": "1.2.0",
          "state": {
            "_model_module": "@jupyter-widgets/base",
            "_model_module_version": "1.2.0",
            "_model_name": "LayoutModel",
            "_view_count": null,
            "_view_module": "@jupyter-widgets/base",
            "_view_module_version": "1.2.0",
            "_view_name": "LayoutView",
            "align_content": null,
            "align_items": null,
            "align_self": null,
            "border": null,
            "bottom": null,
            "display": null,
            "flex": null,
            "flex_flow": null,
            "grid_area": null,
            "grid_auto_columns": null,
            "grid_auto_flow": null,
            "grid_auto_rows": null,
            "grid_column": null,
            "grid_gap": null,
            "grid_row": null,
            "grid_template_areas": null,
            "grid_template_columns": null,
            "grid_template_rows": null,
            "height": null,
            "justify_content": null,
            "justify_items": null,
            "left": null,
            "margin": null,
            "max_height": null,
            "max_width": null,
            "min_height": null,
            "min_width": null,
            "object_fit": null,
            "object_position": null,
            "order": null,
            "overflow": null,
            "overflow_x": null,
            "overflow_y": null,
            "padding": null,
            "right": null,
            "top": null,
            "visibility": null,
            "width": null
          }
        },
        "078ac87006d444c49a44ac4ded0bba4b": {
          "model_module": "@jupyter-widgets/base",
          "model_name": "LayoutModel",
          "model_module_version": "1.2.0",
          "state": {
            "_model_module": "@jupyter-widgets/base",
            "_model_module_version": "1.2.0",
            "_model_name": "LayoutModel",
            "_view_count": null,
            "_view_module": "@jupyter-widgets/base",
            "_view_module_version": "1.2.0",
            "_view_name": "LayoutView",
            "align_content": null,
            "align_items": null,
            "align_self": null,
            "border": null,
            "bottom": null,
            "display": null,
            "flex": null,
            "flex_flow": null,
            "grid_area": null,
            "grid_auto_columns": null,
            "grid_auto_flow": null,
            "grid_auto_rows": null,
            "grid_column": null,
            "grid_gap": null,
            "grid_row": null,
            "grid_template_areas": null,
            "grid_template_columns": null,
            "grid_template_rows": null,
            "height": null,
            "justify_content": null,
            "justify_items": null,
            "left": null,
            "margin": null,
            "max_height": null,
            "max_width": null,
            "min_height": null,
            "min_width": null,
            "object_fit": null,
            "object_position": null,
            "order": null,
            "overflow": null,
            "overflow_x": null,
            "overflow_y": null,
            "padding": null,
            "right": null,
            "top": null,
            "visibility": null,
            "width": null
          }
        },
        "1ae1d27bb63348a0b953481fe8c6c3e3": {
          "model_module": "@jupyter-widgets/controls",
          "model_name": "DescriptionStyleModel",
          "model_module_version": "1.5.0",
          "state": {
            "_model_module": "@jupyter-widgets/controls",
            "_model_module_version": "1.5.0",
            "_model_name": "DescriptionStyleModel",
            "_view_count": null,
            "_view_module": "@jupyter-widgets/base",
            "_view_module_version": "1.2.0",
            "_view_name": "StyleView",
            "description_width": ""
          }
        },
        "a2b991febb414c059555c99c58bbad9b": {
          "model_module": "@jupyter-widgets/base",
          "model_name": "LayoutModel",
          "model_module_version": "1.2.0",
          "state": {
            "_model_module": "@jupyter-widgets/base",
            "_model_module_version": "1.2.0",
            "_model_name": "LayoutModel",
            "_view_count": null,
            "_view_module": "@jupyter-widgets/base",
            "_view_module_version": "1.2.0",
            "_view_name": "LayoutView",
            "align_content": null,
            "align_items": null,
            "align_self": null,
            "border": null,
            "bottom": null,
            "display": null,
            "flex": null,
            "flex_flow": null,
            "grid_area": null,
            "grid_auto_columns": null,
            "grid_auto_flow": null,
            "grid_auto_rows": null,
            "grid_column": null,
            "grid_gap": null,
            "grid_row": null,
            "grid_template_areas": null,
            "grid_template_columns": null,
            "grid_template_rows": null,
            "height": null,
            "justify_content": null,
            "justify_items": null,
            "left": null,
            "margin": null,
            "max_height": null,
            "max_width": null,
            "min_height": null,
            "min_width": null,
            "object_fit": null,
            "object_position": null,
            "order": null,
            "overflow": null,
            "overflow_x": null,
            "overflow_y": null,
            "padding": null,
            "right": null,
            "top": null,
            "visibility": null,
            "width": null
          }
        },
        "a349aca044794448b1a9ca1b9758dbf2": {
          "model_module": "@jupyter-widgets/controls",
          "model_name": "ProgressStyleModel",
          "model_module_version": "1.5.0",
          "state": {
            "_model_module": "@jupyter-widgets/controls",
            "_model_module_version": "1.5.0",
            "_model_name": "ProgressStyleModel",
            "_view_count": null,
            "_view_module": "@jupyter-widgets/base",
            "_view_module_version": "1.2.0",
            "_view_name": "StyleView",
            "bar_color": null,
            "description_width": ""
          }
        },
        "b06927a708ee451f85f13a1ff4707071": {
          "model_module": "@jupyter-widgets/base",
          "model_name": "LayoutModel",
          "model_module_version": "1.2.0",
          "state": {
            "_model_module": "@jupyter-widgets/base",
            "_model_module_version": "1.2.0",
            "_model_name": "LayoutModel",
            "_view_count": null,
            "_view_module": "@jupyter-widgets/base",
            "_view_module_version": "1.2.0",
            "_view_name": "LayoutView",
            "align_content": null,
            "align_items": null,
            "align_self": null,
            "border": null,
            "bottom": null,
            "display": null,
            "flex": null,
            "flex_flow": null,
            "grid_area": null,
            "grid_auto_columns": null,
            "grid_auto_flow": null,
            "grid_auto_rows": null,
            "grid_column": null,
            "grid_gap": null,
            "grid_row": null,
            "grid_template_areas": null,
            "grid_template_columns": null,
            "grid_template_rows": null,
            "height": null,
            "justify_content": null,
            "justify_items": null,
            "left": null,
            "margin": null,
            "max_height": null,
            "max_width": null,
            "min_height": null,
            "min_width": null,
            "object_fit": null,
            "object_position": null,
            "order": null,
            "overflow": null,
            "overflow_x": null,
            "overflow_y": null,
            "padding": null,
            "right": null,
            "top": null,
            "visibility": null,
            "width": null
          }
        },
        "b1cf2e0c60c44edc9f3e3ee8c2a54fd9": {
          "model_module": "@jupyter-widgets/controls",
          "model_name": "DescriptionStyleModel",
          "model_module_version": "1.5.0",
          "state": {
            "_model_module": "@jupyter-widgets/controls",
            "_model_module_version": "1.5.0",
            "_model_name": "DescriptionStyleModel",
            "_view_count": null,
            "_view_module": "@jupyter-widgets/base",
            "_view_module_version": "1.2.0",
            "_view_name": "StyleView",
            "description_width": ""
          }
        }
      }
    }
  },
  "cells": [
    {
      "cell_type": "markdown",
      "source": [
        "# Summaries\n"
      ],
      "metadata": {
        "id": "wgKHAHLUoj36"
      }
    },
    {
      "cell_type": "markdown",
      "source": [
        "## Dependencias & Librerias"
      ],
      "metadata": {
        "id": "ir7YfN6P7Dy0"
      }
    },
    {
      "cell_type": "code",
      "source": [
        "!pip install datasets # For download datasets from kaggle\n",
        "!pip install transformers accelerate optimum # some libs for transformers\n",
        "!pip install auto-gptq --extra-index-url https://huggingface.github.io/autogptq-index/whl/cu117/ #IDK"
      ],
      "metadata": {
        "colab": {
          "base_uri": "https://localhost:8080/"
        },
        "id": "MZA-PLAJpR_J",
        "outputId": "32be8ab6-8284-402a-a6b7-da6623948061",
        "collapsed": true
      },
      "execution_count": null,
      "outputs": [
        {
          "output_type": "stream",
          "name": "stdout",
          "text": [
            "Collecting datasets\n",
            "  Downloading datasets-3.3.2-py3-none-any.whl.metadata (19 kB)\n",
            "Requirement already satisfied: filelock in /usr/local/lib/python3.11/dist-packages (from datasets) (3.17.0)\n",
            "Requirement already satisfied: numpy>=1.17 in /usr/local/lib/python3.11/dist-packages (from datasets) (1.26.4)\n",
            "Requirement already satisfied: pyarrow>=15.0.0 in /usr/local/lib/python3.11/dist-packages (from datasets) (17.0.0)\n",
            "Collecting dill<0.3.9,>=0.3.0 (from datasets)\n",
            "  Downloading dill-0.3.8-py3-none-any.whl.metadata (10 kB)\n",
            "Requirement already satisfied: pandas in /usr/local/lib/python3.11/dist-packages (from datasets) (2.2.2)\n",
            "Requirement already satisfied: requests>=2.32.2 in /usr/local/lib/python3.11/dist-packages (from datasets) (2.32.3)\n",
            "Requirement already satisfied: tqdm>=4.66.3 in /usr/local/lib/python3.11/dist-packages (from datasets) (4.67.1)\n",
            "Collecting xxhash (from datasets)\n",
            "  Downloading xxhash-3.5.0-cp311-cp311-manylinux_2_17_x86_64.manylinux2014_x86_64.whl.metadata (12 kB)\n",
            "Collecting multiprocess<0.70.17 (from datasets)\n",
            "  Downloading multiprocess-0.70.16-py311-none-any.whl.metadata (7.2 kB)\n",
            "Requirement already satisfied: fsspec<=2024.12.0,>=2023.1.0 in /usr/local/lib/python3.11/dist-packages (from fsspec[http]<=2024.12.0,>=2023.1.0->datasets) (2024.10.0)\n",
            "Requirement already satisfied: aiohttp in /usr/local/lib/python3.11/dist-packages (from datasets) (3.11.12)\n",
            "Requirement already satisfied: huggingface-hub>=0.24.0 in /usr/local/lib/python3.11/dist-packages (from datasets) (0.28.1)\n",
            "Requirement already satisfied: packaging in /usr/local/lib/python3.11/dist-packages (from datasets) (24.2)\n",
            "Requirement already satisfied: pyyaml>=5.1 in /usr/local/lib/python3.11/dist-packages (from datasets) (6.0.2)\n",
            "Requirement already satisfied: aiohappyeyeballs>=2.3.0 in /usr/local/lib/python3.11/dist-packages (from aiohttp->datasets) (2.4.6)\n",
            "Requirement already satisfied: aiosignal>=1.1.2 in /usr/local/lib/python3.11/dist-packages (from aiohttp->datasets) (1.3.2)\n",
            "Requirement already satisfied: attrs>=17.3.0 in /usr/local/lib/python3.11/dist-packages (from aiohttp->datasets) (25.1.0)\n",
            "Requirement already satisfied: frozenlist>=1.1.1 in /usr/local/lib/python3.11/dist-packages (from aiohttp->datasets) (1.5.0)\n",
            "Requirement already satisfied: multidict<7.0,>=4.5 in /usr/local/lib/python3.11/dist-packages (from aiohttp->datasets) (6.1.0)\n",
            "Requirement already satisfied: propcache>=0.2.0 in /usr/local/lib/python3.11/dist-packages (from aiohttp->datasets) (0.2.1)\n",
            "Requirement already satisfied: yarl<2.0,>=1.17.0 in /usr/local/lib/python3.11/dist-packages (from aiohttp->datasets) (1.18.3)\n",
            "Requirement already satisfied: typing-extensions>=3.7.4.3 in /usr/local/lib/python3.11/dist-packages (from huggingface-hub>=0.24.0->datasets) (4.12.2)\n",
            "Requirement already satisfied: charset-normalizer<4,>=2 in /usr/local/lib/python3.11/dist-packages (from requests>=2.32.2->datasets) (3.4.1)\n",
            "Requirement already satisfied: idna<4,>=2.5 in /usr/local/lib/python3.11/dist-packages (from requests>=2.32.2->datasets) (3.10)\n",
            "Requirement already satisfied: urllib3<3,>=1.21.1 in /usr/local/lib/python3.11/dist-packages (from requests>=2.32.2->datasets) (2.3.0)\n",
            "Requirement already satisfied: certifi>=2017.4.17 in /usr/local/lib/python3.11/dist-packages (from requests>=2.32.2->datasets) (2025.1.31)\n",
            "Requirement already satisfied: python-dateutil>=2.8.2 in /usr/local/lib/python3.11/dist-packages (from pandas->datasets) (2.8.2)\n",
            "Requirement already satisfied: pytz>=2020.1 in /usr/local/lib/python3.11/dist-packages (from pandas->datasets) (2025.1)\n",
            "Requirement already satisfied: tzdata>=2022.7 in /usr/local/lib/python3.11/dist-packages (from pandas->datasets) (2025.1)\n",
            "Requirement already satisfied: six>=1.5 in /usr/local/lib/python3.11/dist-packages (from python-dateutil>=2.8.2->pandas->datasets) (1.17.0)\n",
            "Downloading datasets-3.3.2-py3-none-any.whl (485 kB)\n",
            "\u001b[2K   \u001b[90m━━━━━━━━━━━━━━━━━━━━━━━━━━━━━━━━━━━━━━━━\u001b[0m \u001b[32m485.4/485.4 kB\u001b[0m \u001b[31m16.6 MB/s\u001b[0m eta \u001b[36m0:00:00\u001b[0m\n",
            "\u001b[?25hDownloading dill-0.3.8-py3-none-any.whl (116 kB)\n",
            "\u001b[2K   \u001b[90m━━━━━━━━━━━━━━━━━━━━━━━━━━━━━━━━━━━━━━━━\u001b[0m \u001b[32m116.3/116.3 kB\u001b[0m \u001b[31m7.5 MB/s\u001b[0m eta \u001b[36m0:00:00\u001b[0m\n",
            "\u001b[?25hDownloading multiprocess-0.70.16-py311-none-any.whl (143 kB)\n",
            "\u001b[2K   \u001b[90m━━━━━━━━━━━━━━━━━━━━━━━━━━━━━━━━━━━━━━━━\u001b[0m \u001b[32m143.5/143.5 kB\u001b[0m \u001b[31m10.3 MB/s\u001b[0m eta \u001b[36m0:00:00\u001b[0m\n",
            "\u001b[?25hDownloading xxhash-3.5.0-cp311-cp311-manylinux_2_17_x86_64.manylinux2014_x86_64.whl (194 kB)\n",
            "\u001b[2K   \u001b[90m━━━━━━━━━━━━━━━━━━━━━━━━━━━━━━━━━━━━━━━━\u001b[0m \u001b[32m194.8/194.8 kB\u001b[0m \u001b[31m13.9 MB/s\u001b[0m eta \u001b[36m0:00:00\u001b[0m\n",
            "\u001b[?25hInstalling collected packages: xxhash, dill, multiprocess, datasets\n",
            "Successfully installed datasets-3.3.2 dill-0.3.8 multiprocess-0.70.16 xxhash-3.5.0\n",
            "Requirement already satisfied: transformers in /usr/local/lib/python3.11/dist-packages (4.48.3)\n",
            "Requirement already satisfied: accelerate in /usr/local/lib/python3.11/dist-packages (1.3.0)\n",
            "Collecting optimum\n",
            "  Downloading optimum-1.24.0-py3-none-any.whl.metadata (21 kB)\n",
            "Requirement already satisfied: filelock in /usr/local/lib/python3.11/dist-packages (from transformers) (3.17.0)\n",
            "Requirement already satisfied: huggingface-hub<1.0,>=0.24.0 in /usr/local/lib/python3.11/dist-packages (from transformers) (0.28.1)\n",
            "Requirement already satisfied: numpy>=1.17 in /usr/local/lib/python3.11/dist-packages (from transformers) (1.26.4)\n",
            "Requirement already satisfied: packaging>=20.0 in /usr/local/lib/python3.11/dist-packages (from transformers) (24.2)\n",
            "Requirement already satisfied: pyyaml>=5.1 in /usr/local/lib/python3.11/dist-packages (from transformers) (6.0.2)\n",
            "Requirement already satisfied: regex!=2019.12.17 in /usr/local/lib/python3.11/dist-packages (from transformers) (2024.11.6)\n",
            "Requirement already satisfied: requests in /usr/local/lib/python3.11/dist-packages (from transformers) (2.32.3)\n",
            "Requirement already satisfied: tokenizers<0.22,>=0.21 in /usr/local/lib/python3.11/dist-packages (from transformers) (0.21.0)\n",
            "Requirement already satisfied: safetensors>=0.4.1 in /usr/local/lib/python3.11/dist-packages (from transformers) (0.5.2)\n",
            "Requirement already satisfied: tqdm>=4.27 in /usr/local/lib/python3.11/dist-packages (from transformers) (4.67.1)\n",
            "Requirement already satisfied: psutil in /usr/local/lib/python3.11/dist-packages (from accelerate) (5.9.5)\n",
            "Requirement already satisfied: torch>=2.0.0 in /usr/local/lib/python3.11/dist-packages (from accelerate) (2.5.1+cu124)\n",
            "Requirement already satisfied: fsspec>=2023.5.0 in /usr/local/lib/python3.11/dist-packages (from huggingface-hub<1.0,>=0.24.0->transformers) (2024.10.0)\n",
            "Requirement already satisfied: typing-extensions>=3.7.4.3 in /usr/local/lib/python3.11/dist-packages (from huggingface-hub<1.0,>=0.24.0->transformers) (4.12.2)\n",
            "Requirement already satisfied: networkx in /usr/local/lib/python3.11/dist-packages (from torch>=2.0.0->accelerate) (3.4.2)\n",
            "Requirement already satisfied: jinja2 in /usr/local/lib/python3.11/dist-packages (from torch>=2.0.0->accelerate) (3.1.5)\n",
            "Collecting nvidia-cuda-nvrtc-cu12==12.4.127 (from torch>=2.0.0->accelerate)\n",
            "  Downloading nvidia_cuda_nvrtc_cu12-12.4.127-py3-none-manylinux2014_x86_64.whl.metadata (1.5 kB)\n",
            "Collecting nvidia-cuda-runtime-cu12==12.4.127 (from torch>=2.0.0->accelerate)\n",
            "  Downloading nvidia_cuda_runtime_cu12-12.4.127-py3-none-manylinux2014_x86_64.whl.metadata (1.5 kB)\n",
            "Collecting nvidia-cuda-cupti-cu12==12.4.127 (from torch>=2.0.0->accelerate)\n",
            "  Downloading nvidia_cuda_cupti_cu12-12.4.127-py3-none-manylinux2014_x86_64.whl.metadata (1.6 kB)\n",
            "Collecting nvidia-cudnn-cu12==9.1.0.70 (from torch>=2.0.0->accelerate)\n",
            "  Downloading nvidia_cudnn_cu12-9.1.0.70-py3-none-manylinux2014_x86_64.whl.metadata (1.6 kB)\n",
            "Collecting nvidia-cublas-cu12==12.4.5.8 (from torch>=2.0.0->accelerate)\n",
            "  Downloading nvidia_cublas_cu12-12.4.5.8-py3-none-manylinux2014_x86_64.whl.metadata (1.5 kB)\n",
            "Collecting nvidia-cufft-cu12==11.2.1.3 (from torch>=2.0.0->accelerate)\n",
            "  Downloading nvidia_cufft_cu12-11.2.1.3-py3-none-manylinux2014_x86_64.whl.metadata (1.5 kB)\n",
            "Collecting nvidia-curand-cu12==10.3.5.147 (from torch>=2.0.0->accelerate)\n",
            "  Downloading nvidia_curand_cu12-10.3.5.147-py3-none-manylinux2014_x86_64.whl.metadata (1.5 kB)\n",
            "Collecting nvidia-cusolver-cu12==11.6.1.9 (from torch>=2.0.0->accelerate)\n",
            "  Downloading nvidia_cusolver_cu12-11.6.1.9-py3-none-manylinux2014_x86_64.whl.metadata (1.6 kB)\n",
            "Collecting nvidia-cusparse-cu12==12.3.1.170 (from torch>=2.0.0->accelerate)\n",
            "  Downloading nvidia_cusparse_cu12-12.3.1.170-py3-none-manylinux2014_x86_64.whl.metadata (1.6 kB)\n",
            "Requirement already satisfied: nvidia-nccl-cu12==2.21.5 in /usr/local/lib/python3.11/dist-packages (from torch>=2.0.0->accelerate) (2.21.5)\n",
            "Requirement already satisfied: nvidia-nvtx-cu12==12.4.127 in /usr/local/lib/python3.11/dist-packages (from torch>=2.0.0->accelerate) (12.4.127)\n",
            "Collecting nvidia-nvjitlink-cu12==12.4.127 (from torch>=2.0.0->accelerate)\n",
            "  Downloading nvidia_nvjitlink_cu12-12.4.127-py3-none-manylinux2014_x86_64.whl.metadata (1.5 kB)\n",
            "Requirement already satisfied: triton==3.1.0 in /usr/local/lib/python3.11/dist-packages (from torch>=2.0.0->accelerate) (3.1.0)\n",
            "Requirement already satisfied: sympy==1.13.1 in /usr/local/lib/python3.11/dist-packages (from torch>=2.0.0->accelerate) (1.13.1)\n",
            "Requirement already satisfied: mpmath<1.4,>=1.1.0 in /usr/local/lib/python3.11/dist-packages (from sympy==1.13.1->torch>=2.0.0->accelerate) (1.3.0)\n",
            "Requirement already satisfied: charset-normalizer<4,>=2 in /usr/local/lib/python3.11/dist-packages (from requests->transformers) (3.4.1)\n",
            "Requirement already satisfied: idna<4,>=2.5 in /usr/local/lib/python3.11/dist-packages (from requests->transformers) (3.10)\n",
            "Requirement already satisfied: urllib3<3,>=1.21.1 in /usr/local/lib/python3.11/dist-packages (from requests->transformers) (2.3.0)\n",
            "Requirement already satisfied: certifi>=2017.4.17 in /usr/local/lib/python3.11/dist-packages (from requests->transformers) (2025.1.31)\n",
            "Requirement already satisfied: MarkupSafe>=2.0 in /usr/local/lib/python3.11/dist-packages (from jinja2->torch>=2.0.0->accelerate) (3.0.2)\n",
            "Downloading optimum-1.24.0-py3-none-any.whl (433 kB)\n",
            "\u001b[2K   \u001b[90m━━━━━━━━━━━━━━━━━━━━━━━━━━━━━━━━━━━━━━━━\u001b[0m \u001b[32m433.6/433.6 kB\u001b[0m \u001b[31m12.6 MB/s\u001b[0m eta \u001b[36m0:00:00\u001b[0m\n",
            "\u001b[?25hDownloading nvidia_cublas_cu12-12.4.5.8-py3-none-manylinux2014_x86_64.whl (363.4 MB)\n",
            "\u001b[2K   \u001b[90m━━━━━━━━━━━━━━━━━━━━━━━━━━━━━━━━━━━━━━━━\u001b[0m \u001b[32m363.4/363.4 MB\u001b[0m \u001b[31m4.7 MB/s\u001b[0m eta \u001b[36m0:00:00\u001b[0m\n",
            "\u001b[?25hDownloading nvidia_cuda_cupti_cu12-12.4.127-py3-none-manylinux2014_x86_64.whl (13.8 MB)\n",
            "\u001b[2K   \u001b[90m━━━━━━━━━━━━━━━━━━━━━━━━━━━━━━━━━━━━━━━━\u001b[0m \u001b[32m13.8/13.8 MB\u001b[0m \u001b[31m64.4 MB/s\u001b[0m eta \u001b[36m0:00:00\u001b[0m\n",
            "\u001b[?25hDownloading nvidia_cuda_nvrtc_cu12-12.4.127-py3-none-manylinux2014_x86_64.whl (24.6 MB)\n",
            "\u001b[2K   \u001b[90m━━━━━━━━━━━━━━━━━━━━━━━━━━━━━━━━━━━━━━━━\u001b[0m \u001b[32m24.6/24.6 MB\u001b[0m \u001b[31m34.9 MB/s\u001b[0m eta \u001b[36m0:00:00\u001b[0m\n",
            "\u001b[?25hDownloading nvidia_cuda_runtime_cu12-12.4.127-py3-none-manylinux2014_x86_64.whl (883 kB)\n",
            "\u001b[2K   \u001b[90m━━━━━━━━━━━━━━━━━━━━━━━━━━━━━━━━━━━━━━━━\u001b[0m \u001b[32m883.7/883.7 kB\u001b[0m \u001b[31m44.6 MB/s\u001b[0m eta \u001b[36m0:00:00\u001b[0m\n",
            "\u001b[?25hDownloading nvidia_cudnn_cu12-9.1.0.70-py3-none-manylinux2014_x86_64.whl (664.8 MB)\n",
            "\u001b[2K   \u001b[90m━━━━━━━━━━━━━━━━━━━━━━━━━━━━━━━━━━━━━━━━\u001b[0m \u001b[32m664.8/664.8 MB\u001b[0m \u001b[31m2.5 MB/s\u001b[0m eta \u001b[36m0:00:00\u001b[0m\n",
            "\u001b[?25hDownloading nvidia_cufft_cu12-11.2.1.3-py3-none-manylinux2014_x86_64.whl (211.5 MB)\n",
            "\u001b[2K   \u001b[90m━━━━━━━━━━━━━━━━━━━━━━━━━━━━━━━━━━━━━━━━\u001b[0m \u001b[32m211.5/211.5 MB\u001b[0m \u001b[31m5.1 MB/s\u001b[0m eta \u001b[36m0:00:00\u001b[0m\n",
            "\u001b[?25hDownloading nvidia_curand_cu12-10.3.5.147-py3-none-manylinux2014_x86_64.whl (56.3 MB)\n",
            "\u001b[2K   \u001b[90m━━━━━━━━━━━━━━━━━━━━━━━━━━━━━━━━━━━━━━━━\u001b[0m \u001b[32m56.3/56.3 MB\u001b[0m \u001b[31m7.0 MB/s\u001b[0m eta \u001b[36m0:00:00\u001b[0m\n",
            "\u001b[?25hDownloading nvidia_cusolver_cu12-11.6.1.9-py3-none-manylinux2014_x86_64.whl (127.9 MB)\n",
            "\u001b[2K   \u001b[90m━━━━━━━━━━━━━━━━━━━━━━━━━━━━━━━━━━━━━━━━\u001b[0m \u001b[32m127.9/127.9 MB\u001b[0m \u001b[31m8.2 MB/s\u001b[0m eta \u001b[36m0:00:00\u001b[0m\n",
            "\u001b[?25hDownloading nvidia_cusparse_cu12-12.3.1.170-py3-none-manylinux2014_x86_64.whl (207.5 MB)\n",
            "\u001b[2K   \u001b[90m━━━━━━━━━━━━━━━━━━━━━━━━━━━━━━━━━━━━━━━━\u001b[0m \u001b[32m207.5/207.5 MB\u001b[0m \u001b[31m5.6 MB/s\u001b[0m eta \u001b[36m0:00:00\u001b[0m\n",
            "\u001b[?25hDownloading nvidia_nvjitlink_cu12-12.4.127-py3-none-manylinux2014_x86_64.whl (21.1 MB)\n",
            "\u001b[2K   \u001b[90m━━━━━━━━━━━━━━━━━━━━━━━━━━━━━━━━━━━━━━━━\u001b[0m \u001b[32m21.1/21.1 MB\u001b[0m \u001b[31m52.7 MB/s\u001b[0m eta \u001b[36m0:00:00\u001b[0m\n",
            "\u001b[?25hInstalling collected packages: nvidia-nvjitlink-cu12, nvidia-curand-cu12, nvidia-cufft-cu12, nvidia-cuda-runtime-cu12, nvidia-cuda-nvrtc-cu12, nvidia-cuda-cupti-cu12, nvidia-cublas-cu12, nvidia-cusparse-cu12, nvidia-cudnn-cu12, nvidia-cusolver-cu12, optimum\n",
            "  Attempting uninstall: nvidia-nvjitlink-cu12\n",
            "    Found existing installation: nvidia-nvjitlink-cu12 12.5.82\n",
            "    Uninstalling nvidia-nvjitlink-cu12-12.5.82:\n",
            "      Successfully uninstalled nvidia-nvjitlink-cu12-12.5.82\n",
            "  Attempting uninstall: nvidia-curand-cu12\n",
            "    Found existing installation: nvidia-curand-cu12 10.3.6.82\n",
            "    Uninstalling nvidia-curand-cu12-10.3.6.82:\n",
            "      Successfully uninstalled nvidia-curand-cu12-10.3.6.82\n",
            "  Attempting uninstall: nvidia-cufft-cu12\n",
            "    Found existing installation: nvidia-cufft-cu12 11.2.3.61\n",
            "    Uninstalling nvidia-cufft-cu12-11.2.3.61:\n",
            "      Successfully uninstalled nvidia-cufft-cu12-11.2.3.61\n",
            "  Attempting uninstall: nvidia-cuda-runtime-cu12\n",
            "    Found existing installation: nvidia-cuda-runtime-cu12 12.5.82\n",
            "    Uninstalling nvidia-cuda-runtime-cu12-12.5.82:\n",
            "      Successfully uninstalled nvidia-cuda-runtime-cu12-12.5.82\n",
            "  Attempting uninstall: nvidia-cuda-nvrtc-cu12\n",
            "    Found existing installation: nvidia-cuda-nvrtc-cu12 12.5.82\n",
            "    Uninstalling nvidia-cuda-nvrtc-cu12-12.5.82:\n",
            "      Successfully uninstalled nvidia-cuda-nvrtc-cu12-12.5.82\n",
            "  Attempting uninstall: nvidia-cuda-cupti-cu12\n",
            "    Found existing installation: nvidia-cuda-cupti-cu12 12.5.82\n",
            "    Uninstalling nvidia-cuda-cupti-cu12-12.5.82:\n",
            "      Successfully uninstalled nvidia-cuda-cupti-cu12-12.5.82\n",
            "  Attempting uninstall: nvidia-cublas-cu12\n",
            "    Found existing installation: nvidia-cublas-cu12 12.5.3.2\n",
            "    Uninstalling nvidia-cublas-cu12-12.5.3.2:\n",
            "      Successfully uninstalled nvidia-cublas-cu12-12.5.3.2\n",
            "  Attempting uninstall: nvidia-cusparse-cu12\n",
            "    Found existing installation: nvidia-cusparse-cu12 12.5.1.3\n",
            "    Uninstalling nvidia-cusparse-cu12-12.5.1.3:\n",
            "      Successfully uninstalled nvidia-cusparse-cu12-12.5.1.3\n",
            "  Attempting uninstall: nvidia-cudnn-cu12\n",
            "    Found existing installation: nvidia-cudnn-cu12 9.3.0.75\n",
            "    Uninstalling nvidia-cudnn-cu12-9.3.0.75:\n",
            "      Successfully uninstalled nvidia-cudnn-cu12-9.3.0.75\n",
            "  Attempting uninstall: nvidia-cusolver-cu12\n",
            "    Found existing installation: nvidia-cusolver-cu12 11.6.3.83\n",
            "    Uninstalling nvidia-cusolver-cu12-11.6.3.83:\n",
            "      Successfully uninstalled nvidia-cusolver-cu12-11.6.3.83\n",
            "Successfully installed nvidia-cublas-cu12-12.4.5.8 nvidia-cuda-cupti-cu12-12.4.127 nvidia-cuda-nvrtc-cu12-12.4.127 nvidia-cuda-runtime-cu12-12.4.127 nvidia-cudnn-cu12-9.1.0.70 nvidia-cufft-cu12-11.2.1.3 nvidia-curand-cu12-10.3.5.147 nvidia-cusolver-cu12-11.6.1.9 nvidia-cusparse-cu12-12.3.1.170 nvidia-nvjitlink-cu12-12.4.127 optimum-1.24.0\n",
            "Looking in indexes: https://pypi.org/simple, https://huggingface.github.io/autogptq-index/whl/cu117/\n",
            "Collecting auto-gptq\n",
            "  Downloading auto_gptq-0.7.1-cp311-cp311-manylinux_2_17_x86_64.manylinux2014_x86_64.whl.metadata (18 kB)\n",
            "Requirement already satisfied: accelerate>=0.26.0 in /usr/local/lib/python3.11/dist-packages (from auto-gptq) (1.3.0)\n",
            "Requirement already satisfied: datasets in /usr/local/lib/python3.11/dist-packages (from auto-gptq) (3.3.2)\n",
            "Requirement already satisfied: sentencepiece in /usr/local/lib/python3.11/dist-packages (from auto-gptq) (0.2.0)\n",
            "Requirement already satisfied: numpy in /usr/local/lib/python3.11/dist-packages (from auto-gptq) (1.26.4)\n",
            "Collecting rouge (from auto-gptq)\n",
            "  Downloading rouge-1.0.1-py3-none-any.whl.metadata (4.1 kB)\n",
            "Collecting gekko (from auto-gptq)\n",
            "  Downloading gekko-1.2.1-py3-none-any.whl.metadata (3.0 kB)\n",
            "Requirement already satisfied: torch>=1.13.0 in /usr/local/lib/python3.11/dist-packages (from auto-gptq) (2.5.1+cu124)\n",
            "Requirement already satisfied: safetensors in /usr/local/lib/python3.11/dist-packages (from auto-gptq) (0.5.2)\n",
            "Requirement already satisfied: transformers>=4.31.0 in /usr/local/lib/python3.11/dist-packages (from auto-gptq) (4.48.3)\n",
            "Requirement already satisfied: peft>=0.5.0 in /usr/local/lib/python3.11/dist-packages (from auto-gptq) (0.14.0)\n",
            "Requirement already satisfied: tqdm in /usr/local/lib/python3.11/dist-packages (from auto-gptq) (4.67.1)\n",
            "Requirement already satisfied: packaging>=20.0 in /usr/local/lib/python3.11/dist-packages (from accelerate>=0.26.0->auto-gptq) (24.2)\n",
            "Requirement already satisfied: psutil in /usr/local/lib/python3.11/dist-packages (from accelerate>=0.26.0->auto-gptq) (5.9.5)\n",
            "Requirement already satisfied: pyyaml in /usr/local/lib/python3.11/dist-packages (from accelerate>=0.26.0->auto-gptq) (6.0.2)\n",
            "Requirement already satisfied: huggingface-hub>=0.21.0 in /usr/local/lib/python3.11/dist-packages (from accelerate>=0.26.0->auto-gptq) (0.28.1)\n",
            "Requirement already satisfied: filelock in /usr/local/lib/python3.11/dist-packages (from torch>=1.13.0->auto-gptq) (3.17.0)\n",
            "Requirement already satisfied: typing-extensions>=4.8.0 in /usr/local/lib/python3.11/dist-packages (from torch>=1.13.0->auto-gptq) (4.12.2)\n",
            "Requirement already satisfied: networkx in /usr/local/lib/python3.11/dist-packages (from torch>=1.13.0->auto-gptq) (3.4.2)\n",
            "Requirement already satisfied: jinja2 in /usr/local/lib/python3.11/dist-packages (from torch>=1.13.0->auto-gptq) (3.1.5)\n",
            "Requirement already satisfied: fsspec in /usr/local/lib/python3.11/dist-packages (from torch>=1.13.0->auto-gptq) (2024.10.0)\n",
            "Requirement already satisfied: nvidia-cuda-nvrtc-cu12==12.4.127 in /usr/local/lib/python3.11/dist-packages (from torch>=1.13.0->auto-gptq) (12.4.127)\n",
            "Requirement already satisfied: nvidia-cuda-runtime-cu12==12.4.127 in /usr/local/lib/python3.11/dist-packages (from torch>=1.13.0->auto-gptq) (12.4.127)\n",
            "Requirement already satisfied: nvidia-cuda-cupti-cu12==12.4.127 in /usr/local/lib/python3.11/dist-packages (from torch>=1.13.0->auto-gptq) (12.4.127)\n",
            "Requirement already satisfied: nvidia-cudnn-cu12==9.1.0.70 in /usr/local/lib/python3.11/dist-packages (from torch>=1.13.0->auto-gptq) (9.1.0.70)\n",
            "Requirement already satisfied: nvidia-cublas-cu12==12.4.5.8 in /usr/local/lib/python3.11/dist-packages (from torch>=1.13.0->auto-gptq) (12.4.5.8)\n",
            "Requirement already satisfied: nvidia-cufft-cu12==11.2.1.3 in /usr/local/lib/python3.11/dist-packages (from torch>=1.13.0->auto-gptq) (11.2.1.3)\n",
            "Requirement already satisfied: nvidia-curand-cu12==10.3.5.147 in /usr/local/lib/python3.11/dist-packages (from torch>=1.13.0->auto-gptq) (10.3.5.147)\n",
            "Requirement already satisfied: nvidia-cusolver-cu12==11.6.1.9 in /usr/local/lib/python3.11/dist-packages (from torch>=1.13.0->auto-gptq) (11.6.1.9)\n",
            "Requirement already satisfied: nvidia-cusparse-cu12==12.3.1.170 in /usr/local/lib/python3.11/dist-packages (from torch>=1.13.0->auto-gptq) (12.3.1.170)\n",
            "Requirement already satisfied: nvidia-nccl-cu12==2.21.5 in /usr/local/lib/python3.11/dist-packages (from torch>=1.13.0->auto-gptq) (2.21.5)\n",
            "Requirement already satisfied: nvidia-nvtx-cu12==12.4.127 in /usr/local/lib/python3.11/dist-packages (from torch>=1.13.0->auto-gptq) (12.4.127)\n",
            "Requirement already satisfied: nvidia-nvjitlink-cu12==12.4.127 in /usr/local/lib/python3.11/dist-packages (from torch>=1.13.0->auto-gptq) (12.4.127)\n",
            "Requirement already satisfied: triton==3.1.0 in /usr/local/lib/python3.11/dist-packages (from torch>=1.13.0->auto-gptq) (3.1.0)\n",
            "Requirement already satisfied: sympy==1.13.1 in /usr/local/lib/python3.11/dist-packages (from torch>=1.13.0->auto-gptq) (1.13.1)\n",
            "Requirement already satisfied: mpmath<1.4,>=1.1.0 in /usr/local/lib/python3.11/dist-packages (from sympy==1.13.1->torch>=1.13.0->auto-gptq) (1.3.0)\n",
            "Requirement already satisfied: regex!=2019.12.17 in /usr/local/lib/python3.11/dist-packages (from transformers>=4.31.0->auto-gptq) (2024.11.6)\n",
            "Requirement already satisfied: requests in /usr/local/lib/python3.11/dist-packages (from transformers>=4.31.0->auto-gptq) (2.32.3)\n",
            "Requirement already satisfied: tokenizers<0.22,>=0.21 in /usr/local/lib/python3.11/dist-packages (from transformers>=4.31.0->auto-gptq) (0.21.0)\n",
            "Requirement already satisfied: pyarrow>=15.0.0 in /usr/local/lib/python3.11/dist-packages (from datasets->auto-gptq) (17.0.0)\n",
            "Requirement already satisfied: dill<0.3.9,>=0.3.0 in /usr/local/lib/python3.11/dist-packages (from datasets->auto-gptq) (0.3.8)\n",
            "Requirement already satisfied: pandas in /usr/local/lib/python3.11/dist-packages (from datasets->auto-gptq) (2.2.2)\n",
            "Requirement already satisfied: xxhash in /usr/local/lib/python3.11/dist-packages (from datasets->auto-gptq) (3.5.0)\n",
            "Requirement already satisfied: multiprocess<0.70.17 in /usr/local/lib/python3.11/dist-packages (from datasets->auto-gptq) (0.70.16)\n",
            "Requirement already satisfied: aiohttp in /usr/local/lib/python3.11/dist-packages (from datasets->auto-gptq) (3.11.12)\n",
            "Requirement already satisfied: six in /usr/local/lib/python3.11/dist-packages (from rouge->auto-gptq) (1.17.0)\n",
            "Requirement already satisfied: aiohappyeyeballs>=2.3.0 in /usr/local/lib/python3.11/dist-packages (from aiohttp->datasets->auto-gptq) (2.4.6)\n",
            "Requirement already satisfied: aiosignal>=1.1.2 in /usr/local/lib/python3.11/dist-packages (from aiohttp->datasets->auto-gptq) (1.3.2)\n",
            "Requirement already satisfied: attrs>=17.3.0 in /usr/local/lib/python3.11/dist-packages (from aiohttp->datasets->auto-gptq) (25.1.0)\n",
            "Requirement already satisfied: frozenlist>=1.1.1 in /usr/local/lib/python3.11/dist-packages (from aiohttp->datasets->auto-gptq) (1.5.0)\n",
            "Requirement already satisfied: multidict<7.0,>=4.5 in /usr/local/lib/python3.11/dist-packages (from aiohttp->datasets->auto-gptq) (6.1.0)\n",
            "Requirement already satisfied: propcache>=0.2.0 in /usr/local/lib/python3.11/dist-packages (from aiohttp->datasets->auto-gptq) (0.2.1)\n",
            "Requirement already satisfied: yarl<2.0,>=1.17.0 in /usr/local/lib/python3.11/dist-packages (from aiohttp->datasets->auto-gptq) (1.18.3)\n",
            "Requirement already satisfied: charset-normalizer<4,>=2 in /usr/local/lib/python3.11/dist-packages (from requests->transformers>=4.31.0->auto-gptq) (3.4.1)\n",
            "Requirement already satisfied: idna<4,>=2.5 in /usr/local/lib/python3.11/dist-packages (from requests->transformers>=4.31.0->auto-gptq) (3.10)\n",
            "Requirement already satisfied: urllib3<3,>=1.21.1 in /usr/local/lib/python3.11/dist-packages (from requests->transformers>=4.31.0->auto-gptq) (2.3.0)\n",
            "Requirement already satisfied: certifi>=2017.4.17 in /usr/local/lib/python3.11/dist-packages (from requests->transformers>=4.31.0->auto-gptq) (2025.1.31)\n",
            "Requirement already satisfied: MarkupSafe>=2.0 in /usr/local/lib/python3.11/dist-packages (from jinja2->torch>=1.13.0->auto-gptq) (3.0.2)\n",
            "Requirement already satisfied: python-dateutil>=2.8.2 in /usr/local/lib/python3.11/dist-packages (from pandas->datasets->auto-gptq) (2.8.2)\n",
            "Requirement already satisfied: pytz>=2020.1 in /usr/local/lib/python3.11/dist-packages (from pandas->datasets->auto-gptq) (2025.1)\n",
            "Requirement already satisfied: tzdata>=2022.7 in /usr/local/lib/python3.11/dist-packages (from pandas->datasets->auto-gptq) (2025.1)\n",
            "Downloading auto_gptq-0.7.1-cp311-cp311-manylinux_2_17_x86_64.manylinux2014_x86_64.whl (23.5 MB)\n",
            "\u001b[2K   \u001b[90m━━━━━━━━━━━━━━━━━━━━━━━━━━━━━━━━━━━━━━━━\u001b[0m \u001b[32m23.5/23.5 MB\u001b[0m \u001b[31m21.5 MB/s\u001b[0m eta \u001b[36m0:00:00\u001b[0m\n",
            "\u001b[?25hDownloading gekko-1.2.1-py3-none-any.whl (13.2 MB)\n",
            "\u001b[2K   \u001b[90m━━━━━━━━━━━━━━━━━━━━━━━━━━━━━━━━━━━━━━━━\u001b[0m \u001b[32m13.2/13.2 MB\u001b[0m \u001b[31m99.3 MB/s\u001b[0m eta \u001b[36m0:00:00\u001b[0m\n",
            "\u001b[?25hDownloading rouge-1.0.1-py3-none-any.whl (13 kB)\n",
            "Installing collected packages: rouge, gekko, auto-gptq\n",
            "Successfully installed auto-gptq-0.7.1 gekko-1.2.1 rouge-1.0.1\n"
          ]
        }
      ]
    },
    {
      "cell_type": "code",
      "source": [
        "!pip install rouge_score"
      ],
      "metadata": {
        "collapsed": true,
        "colab": {
          "base_uri": "https://localhost:8080/"
        },
        "id": "71LKc5MqSYz3",
        "outputId": "57e3474f-3f7c-4383-9b71-97705b409b03"
      },
      "execution_count": null,
      "outputs": [
        {
          "output_type": "stream",
          "name": "stdout",
          "text": [
            "Collecting rouge_score\n",
            "  Downloading rouge_score-0.1.2.tar.gz (17 kB)\n",
            "  Preparing metadata (setup.py) ... \u001b[?25l\u001b[?25hdone\n",
            "Requirement already satisfied: absl-py in /usr/local/lib/python3.11/dist-packages (from rouge_score) (1.4.0)\n",
            "Requirement already satisfied: nltk in /usr/local/lib/python3.11/dist-packages (from rouge_score) (3.9.1)\n",
            "Requirement already satisfied: numpy in /usr/local/lib/python3.11/dist-packages (from rouge_score) (1.26.4)\n",
            "Requirement already satisfied: six>=1.14.0 in /usr/local/lib/python3.11/dist-packages (from rouge_score) (1.17.0)\n",
            "Requirement already satisfied: click in /usr/local/lib/python3.11/dist-packages (from nltk->rouge_score) (8.1.8)\n",
            "Requirement already satisfied: joblib in /usr/local/lib/python3.11/dist-packages (from nltk->rouge_score) (1.4.2)\n",
            "Requirement already satisfied: regex>=2021.8.3 in /usr/local/lib/python3.11/dist-packages (from nltk->rouge_score) (2024.11.6)\n",
            "Requirement already satisfied: tqdm in /usr/local/lib/python3.11/dist-packages (from nltk->rouge_score) (4.67.1)\n",
            "Building wheels for collected packages: rouge_score\n",
            "  Building wheel for rouge_score (setup.py) ... \u001b[?25l\u001b[?25hdone\n",
            "  Created wheel for rouge_score: filename=rouge_score-0.1.2-py3-none-any.whl size=24935 sha256=9230e08bc67af554b08a9714fbd980976dd443b256a33e8f7044a686b12c9b94\n",
            "  Stored in directory: /root/.cache/pip/wheels/1e/19/43/8a442dc83660ca25e163e1bd1f89919284ab0d0c1475475148\n",
            "Successfully built rouge_score\n",
            "Installing collected packages: rouge_score\n",
            "Successfully installed rouge_score-0.1.2\n"
          ]
        }
      ]
    },
    {
      "cell_type": "code",
      "source": [
        "!pip install nltk"
      ],
      "metadata": {
        "colab": {
          "base_uri": "https://localhost:8080/"
        },
        "id": "QLIuE8DYSbmU",
        "outputId": "fe57459d-fa4f-40f7-c03a-637517d68f4d"
      },
      "execution_count": null,
      "outputs": [
        {
          "output_type": "stream",
          "name": "stdout",
          "text": [
            "Requirement already satisfied: nltk in /usr/local/lib/python3.11/dist-packages (3.9.1)\n",
            "Requirement already satisfied: click in /usr/local/lib/python3.11/dist-packages (from nltk) (8.1.8)\n",
            "Requirement already satisfied: joblib in /usr/local/lib/python3.11/dist-packages (from nltk) (1.4.2)\n",
            "Requirement already satisfied: regex>=2021.8.3 in /usr/local/lib/python3.11/dist-packages (from nltk) (2024.11.6)\n",
            "Requirement already satisfied: tqdm in /usr/local/lib/python3.11/dist-packages (from nltk) (4.67.1)\n"
          ]
        }
      ]
    },
    {
      "cell_type": "code",
      "source": [
        "from datasets import load_dataset\n",
        "from transformers import AutoTokenizer, AutoModelForCausalLM\n",
        "import torch\n",
        "from rouge_score import rouge_scorer\n",
        "import pandas as pd"
      ],
      "metadata": {
        "id": "Glx-t9Fyokdg"
      },
      "execution_count": null,
      "outputs": []
    },
    {
      "cell_type": "markdown",
      "source": [
        "## Cargar dataset"
      ],
      "metadata": {
        "id": "aNOgaViQ7IyH"
      }
    },
    {
      "cell_type": "code",
      "source": [
        "def load_data_old():\n",
        "  \"\"\"\n",
        "  Load the Colombian Spanish News dataset.\n",
        "\n",
        "  Returns:\n",
        "  - dataset: The loaded dataset.\n",
        "  \"\"\"\n",
        "  # Load the Colombian Spanish News dataset\n",
        "  dataset = load_dataset(\"hacktoberfest-corpus-es/colmbian_spanish_news\")\n",
        "\n",
        "  # Access the dataset split (adjust as necessary)\n",
        "  train_data = dataset[\"train\"]\n",
        "  test_data = dataset[\"test\"]\n",
        "\n",
        "  return train_data, test_data\n"
      ],
      "metadata": {
        "id": "ilLMhAJ0pHGt"
      },
      "execution_count": null,
      "outputs": []
    },
    {
      "cell_type": "code",
      "source": [
        "import kagglehub\n",
        "\n",
        "def load_data():\n",
        "  \"\"\"\n",
        "  Load the Colombian Spanish News dataset.\n",
        "\n",
        "  Returns:\n",
        "  - dataset: The loaded dataset.\n",
        "  \"\"\"\n",
        "\n",
        "\n",
        "  # Download latest version\n",
        "  path = kagglehub.dataset_download(\"sebastianarangou/just-some-preprocessed-data-for-homework\")\n",
        "\n",
        "  print(\"Path to dataset files:\", path)\n",
        "  # Assuming the dataset is in CSV format\n",
        "  df_train_path = path + '/df_train.csv'  # Adjust based on the actual file name\n",
        "  df_test_path = path + '/df_test.csv'  # Adjust based on the actual file name\n",
        "  df_val_path = path + '/df_val.csv'  # Adjust based on the actual file name\n",
        "\n",
        "  # Load the dataset into a Pandas DataFrame\n",
        "  df_train = pd.read_csv(df_train_path)\n",
        "  df_test = pd.read_csv(df_test_path)\n",
        "  df_val = pd.read_csv(df_val_path)\n",
        "\n",
        "  return df_train, df_test, df_val"
      ],
      "metadata": {
        "id": "qNu5aa3dCh_e"
      },
      "execution_count": null,
      "outputs": []
    },
    {
      "cell_type": "code",
      "source": [
        "train_df = load_data()"
      ],
      "metadata": {
        "colab": {
          "base_uri": "https://localhost:8080/"
        },
        "id": "0hhepAlpCycZ",
        "outputId": "cb8f2125-61ac-43a4-99bd-467b75583c05"
      },
      "execution_count": null,
      "outputs": [
        {
          "output_type": "stream",
          "name": "stdout",
          "text": [
            "Warning: Looks like you're using an outdated `kagglehub` version (installed: 0.3.9), please consider upgrading to the latest version (0.3.10).\n",
            "Path to dataset files: /root/.cache/kagglehub/datasets/sebastianarangou/just-some-preprocessed-data-for-homework/versions/1\n"
          ]
        }
      ]
    },
    {
      "cell_type": "code",
      "source": [
        "df_train, df_test, df_val = load_data()"
      ],
      "metadata": {
        "id": "OIykYVdwpexq",
        "colab": {
          "base_uri": "https://localhost:8080/"
        },
        "outputId": "8c347e82-ccf7-40e1-bd66-65a878bca085"
      },
      "execution_count": null,
      "outputs": [
        {
          "output_type": "stream",
          "name": "stdout",
          "text": [
            "Warning: Looks like you're using an outdated `kagglehub` version (installed: 0.3.9), please consider upgrading to the latest version (0.3.10).\n",
            "Path to dataset files: /root/.cache/kagglehub/datasets/sebastianarangou/just-some-preprocessed-data-for-homework/versions/1\n"
          ]
        }
      ]
    },
    {
      "cell_type": "markdown",
      "source": [
        "## Cargar modelos y tokenizar"
      ],
      "metadata": {
        "id": "r9P1aRg27MXb"
      }
    },
    {
      "cell_type": "code",
      "source": [
        "# Load model directly\n",
        "from transformers import AutoTokenizer, AutoModelForSeq2SeqLM\n",
        "\n",
        "tokenizer = AutoTokenizer.from_pretrained(\"google-t5/t5-small\")\n",
        "model = AutoModelForSeq2SeqLM.from_pretrained(\"google-t5/t5-small\")"
      ],
      "metadata": {
        "colab": {
          "base_uri": "https://localhost:8080/",
          "referenced_widgets": [
            "dbfff8d7e0434a41b2d5e98863b9a362",
            "8ab7d0f3bc7b4f189d17ab012d670db7",
            "4e8e63b519e34cd88d41538c41a5dc92",
            "1971be19d1a24c50b9ded63ab1f3da61",
            "cd499d4f34ef46a78f867ec9d4ca144e",
            "13f373a24c7b47c4ae7e41e441ae2281",
            "e2d0937b76924b6fafd2bd064a6e9ee2",
            "ac7fca7124cb44f882051ff0532470ed",
            "64272e8bd3334572adde1cd01b278825",
            "d31ab1d4da114943aa7f480cb5312f1d",
            "537a7c71853e40c8be2be5565f30a1f7",
            "ae3116c5fdde42e48acff2ad200ba81e",
            "e166c35eeb78476d918ceff23a5d7cb4",
            "fcd4864a58114573ae551882730b5011",
            "ea17d369d21a480fb1e96f9548a2cfe4",
            "71e385c5149043139cf56d622a7c3be6",
            "de8b9f884dd048a791f38341187359ac",
            "ac8f17c2989a46039e78c7ee58f038db",
            "f401c072bacc45aeba5df0c45f746e2a",
            "20036ace35cd4acbb136a03989507af8",
            "81ad7a7c8baa4e75826d8e4603cd2676",
            "d86bc2d4a52849f5a4dc0220dea219be",
            "64530f55980441ddbffd2fb5d9fdd340",
            "4e1e36078d6d440aa19cc45e84ee8f34",
            "18573ec92b50413f938663a21a6fa209",
            "fc5a4c9dc28f4c06981571366755b41b",
            "cac20aa727bf43ceaefdd237bdab4823",
            "078ac87006d444c49a44ac4ded0bba4b",
            "1ae1d27bb63348a0b953481fe8c6c3e3",
            "a2b991febb414c059555c99c58bbad9b",
            "a349aca044794448b1a9ca1b9758dbf2",
            "b06927a708ee451f85f13a1ff4707071",
            "b1cf2e0c60c44edc9f3e3ee8c2a54fd9"
          ],
          "height": 113
        },
        "id": "2ijxt9lpsMWH",
        "outputId": "4449afff-f48c-40dc-eeea-7b2ac95fa867",
        "collapsed": true
      },
      "execution_count": null,
      "outputs": [
        {
          "output_type": "display_data",
          "data": {
            "text/plain": [
              "config.json:   0%|          | 0.00/1.21k [00:00<?, ?B/s]"
            ],
            "application/vnd.jupyter.widget-view+json": {
              "version_major": 2,
              "version_minor": 0,
              "model_id": "dbfff8d7e0434a41b2d5e98863b9a362"
            }
          },
          "metadata": {}
        },
        {
          "output_type": "display_data",
          "data": {
            "text/plain": [
              "model.safetensors:   0%|          | 0.00/242M [00:00<?, ?B/s]"
            ],
            "application/vnd.jupyter.widget-view+json": {
              "version_major": 2,
              "version_minor": 0,
              "model_id": "ae3116c5fdde42e48acff2ad200ba81e"
            }
          },
          "metadata": {}
        },
        {
          "output_type": "display_data",
          "data": {
            "text/plain": [
              "generation_config.json:   0%|          | 0.00/147 [00:00<?, ?B/s]"
            ],
            "application/vnd.jupyter.widget-view+json": {
              "version_major": 2,
              "version_minor": 0,
              "model_id": "64530f55980441ddbffd2fb5d9fdd340"
            }
          },
          "metadata": {}
        }
      ]
    },
    {
      "cell_type": "code",
      "source": [
        "# Check for GPU availability and move the model to the GPU if available\n",
        "if torch.cuda.is_available():\n",
        "    device = torch.device(\"cuda\")\n",
        "    model.to(device)\n",
        "    print(\"Model loaded to GPU\")\n",
        "else:\n",
        "    device = torch.device(\"cpu\")\n",
        "    print(\"No GPU available, model loaded to CPU\")"
      ],
      "metadata": {
        "colab": {
          "base_uri": "https://localhost:8080/"
        },
        "id": "G_h6z1gQ8QdT",
        "outputId": "07210aa5-ab19-4c9c-c363-922db3587278"
      },
      "execution_count": null,
      "outputs": [
        {
          "output_type": "stream",
          "name": "stdout",
          "text": [
            "Model loaded to GPU\n"
          ]
        }
      ]
    },
    {
      "cell_type": "code",
      "source": [
        "def pick_new(train_data,picked_new, show_text=False):\n",
        "  \"\"\"\n",
        "  This function helps to pick a new from the dataset and optionally visualize it\n",
        "  params:\n",
        "  - train_data: the news\n",
        "  - picked_new: the selected new (a number)\n",
        "  - show_text: true or false if you want to visualize the text of the new and its length\n",
        "  returns:\n",
        "  - the text of the new\n",
        "  \"\"\"\n",
        "  # Noticia seleccionada\n",
        "  picked_new:int = picked_new\n",
        "  # Usamos el texto completo de alguna noticia\n",
        "  if show_text:\n",
        "    print(train_data[\"news_text_content\"][picked_new])\n",
        "    print(f'Palabras: {len(train_data[\"news_text_content\"][picked_new])}')\n",
        "  # Texto a resumir\n",
        "  texto = train_data[\"news_text_content\"][picked_new]\n",
        "  return texto\n",
        "\n"
      ],
      "metadata": {
        "id": "f4RiUjGyTNMI"
      },
      "execution_count": null,
      "outputs": []
    },
    {
      "cell_type": "code",
      "source": [
        "import os\n",
        "\n",
        "def download_news(train_data,news_to_download=10, output_dir=\"output_files\"):\n",
        "  \"\"\"\n",
        "  Adds text to a list and downloads each item in a separate file.\n",
        "  (This function is useful because it allow me to get some news for\n",
        "  me to summarize manually, for the sake of evaluate of the model)\n",
        "  Args:\n",
        "  - text_list: A list of strings, where each string is the text to be written to a file.\n",
        "  - output_dir: The directory to save the files. Defaults to \"output_files\".\n",
        "  \"\"\"\n",
        "  if not os.path.exists(output_dir):\n",
        "    os.makedirs(output_dir)\n",
        "\n",
        "  for new in range(news_to_download):\n",
        "    text = train_data[\"news_text_content\"][new]\n",
        "    filename = os.path.join(output_dir, f\"{new}.txt\")\n",
        "    with open(filename, \"w\") as f:\n",
        "      f.write(text)\n",
        "    print(f\"File '{filename}' created successfully.\")"
      ],
      "metadata": {
        "id": "F7Peg5PCdVIP"
      },
      "execution_count": null,
      "outputs": []
    },
    {
      "cell_type": "code",
      "source": [
        " download_news(train_data,news_to_download=10, output_dir=\"output_files\")"
      ],
      "metadata": {
        "colab": {
          "base_uri": "https://localhost:8080/"
        },
        "id": "iWlkMoeiel_v",
        "outputId": "71566098-6f6f-4d10-a1d7-0e4b56676748"
      },
      "execution_count": null,
      "outputs": [
        {
          "output_type": "stream",
          "name": "stdout",
          "text": [
            "File 'output_files/0.txt' created successfully.\n",
            "File 'output_files/1.txt' created successfully.\n",
            "File 'output_files/2.txt' created successfully.\n",
            "File 'output_files/3.txt' created successfully.\n",
            "File 'output_files/4.txt' created successfully.\n",
            "File 'output_files/5.txt' created successfully.\n",
            "File 'output_files/6.txt' created successfully.\n",
            "File 'output_files/7.txt' created successfully.\n",
            "File 'output_files/8.txt' created successfully.\n",
            "File 'output_files/9.txt' created successfully.\n"
          ]
        }
      ]
    },
    {
      "cell_type": "code",
      "source": [
        "# Noticia seleccionada\n",
        "picked_new:int = 3"
      ],
      "metadata": {
        "id": "xKbaOkfI9SEm"
      },
      "execution_count": null,
      "outputs": []
    },
    {
      "cell_type": "code",
      "source": [
        "# Usamos el texto completo de alguna noticia\n",
        "len(train_data[\"news_text_content\"][picked_new])"
      ],
      "metadata": {
        "colab": {
          "base_uri": "https://localhost:8080/"
        },
        "id": "QRGN9Boauaa7",
        "outputId": "f8e6bd4e-23e8-491f-f27a-386a1c4ec397"
      },
      "execution_count": null,
      "outputs": [
        {
          "output_type": "execute_result",
          "data": {
            "text/plain": [
              "4309"
            ]
          },
          "metadata": {},
          "execution_count": 35
        }
      ]
    },
    {
      "cell_type": "code",
      "source": [
        "train_data[\"news_text_content\"][picked_new]"
      ],
      "metadata": {
        "colab": {
          "base_uri": "https://localhost:8080/",
          "height": 215
        },
        "id": "3Oo4limo-73W",
        "outputId": "5ef22832-6781-4da9-9bc4-674715fd6802"
      },
      "execution_count": null,
      "outputs": [
        {
          "output_type": "execute_result",
          "data": {
            "text/plain": [
              "'Cuando los niveles de ácido úrico son elevados pueden generar cristales en las articulaciones, a lo que se le conoce como gota.\\r\\n\\r\\nLos factores por los que aumenta el nivel de ácido úrico en la sangre\\r\\n\\r\\nEl ácido úrico es un químico que se genera cuando el cuerpo descompone unas sustancias llamadas purinas, que normalmente se encuentran en el organismo, pero también en algunos alimentos y bebidas, precisa la Biblioteca Nacional de Medicina de Estados Unidos.\\r\\n\\r\\nLos productos que contienen importantes cantidades de estas sustancias son, entre otros, el hígado, las anchoas, la caballa, los fríjoles y las arvejas secas.\\r\\n\\r\\nLa mayor parte de este químico se disuelve en la sangre y luego se traslada a los riñones, desde donde es expulsado a través de la orina. Cuando el cuerpo produce demasiado ácido úrico o no lo elimina en cantidades suficientes, se pueden generar una serie de inconvenientes para el organismo, como la gota que se presenta por la formación de cristales en las articulaciones.\\r\\n\\r\\nInformación de la compañía de salud Sanitas, de España, asegura que la elevación de los niveles de ácido úrico puede deberse a una dieta poco equilibrada y con un exceso de carnes rojas, pescado y fructosa, la cual no sólo está presente en las frutas, sino fundamentalmente en alimentos envasados y azucarados, como zumos, galletas, cerveza, licores y refrescos light.\\r\\n\\r\\nLos altos niveles de ácido úrico pueden ocasionar molestias en las articulaciones. - Foto: Montaje: Getty Images / Peter Dazeley\\r\\n\\r\\nLa edad y el sexo son también factores de riesgo frente a la elevación del ácido úrico, pues los hombres menores de 65 años tienen un riesgo cuatro veces mayor que las mujeres de sufrir una hiperuricemia, aunque éste se iguala cuando la mujer entra en la etapa de la menopausia. Asimismo, el exceso de ejercicio físico y el sobrepeso pueden favorecer el aumento de este químico.\\r\\n\\r\\nEl instituto de investigación Mayo Clinic asegura que otras causas menos frecuentes por los que se sube el nivel de esta sustancia son una dieta rica en elementos que contienen purinas o el hecho de que el cuerpo produzca demasiado ácido úrico.\\r\\n\\r\\nAlgunos de los factores que más inciden en el aumento de ácido úrico en el cuerpo son los siguientes:\\r\\n\\r\\n- Tomar demasiado alcohol\\r\\n\\r\\n- Genética (tendencias heredadas)\\r\\n\\r\\n- Hipotiroidismo (tiroides hipoactiva)\\r\\n\\r\\n- Medicamentos inmunodepresores\\r\\n\\r\\n- Exceso de niacina o vitamina B3\\r\\n\\r\\n- Obesidad\\r\\n\\r\\n- Psoriasis\\r\\n\\r\\n-Deshidratación\\r\\n\\r\\n- Leucemia\\r\\n\\r\\n- Ejercicio excesivo\\r\\n\\r\\n- Deficiencia de vitamina B12\\r\\n\\r\\n- Insuficiencia renal (incapacidad de los riñones de filtrar desechos)\\r\\n\\r\\n- Síndrome de lisis tumoral (una liberación rápida de células en la sangre que provocan ciertos tipos de cáncer o la quimioterapia que se utiliza para tratarlos)\\r\\n\\r\\nSin embargo, no necesariamente los niveles de ácido úrico en el cuerpo pueden estar elevados, sino que también en algunos casos se ubican por debajo de lo normal y en esto incide, por ejemplo: el síndrome de Fanconi, cuando hay una enfermedad metabólica hereditaria, infección por VIH, dieta baja en purinas y el consumo de medicamentos como atorvastatin, captopril, enapril, fenofibrato, losartan y probenecid.\\r\\n\\r\\nLas carnes rojas son ricas en purinas. - Foto: Getty Images\\r\\n\\r\\nAlimentos que más elevan el ácido úrico\\r\\n\\r\\nSon diversos los alimentos que lo aumentan. De este litado hacen parte los maricos, que tienen una elevada cantidad de purinas y aquí se incluyen los cangrejos, langostinos, ostras, almejas y mejillones, según un artículo del portal Mejor con Salud, el cual cita un estudio realizado por el Hospital Universitario de Burgos (España), en el que se concluye que, en general, la mayor parte de los grupos de pescados generan esta afectación.\\r\\n\\r\\nSin embargo, dados los beneficios generales para el cuerpo de la ingesta de este tipo de alimentos, no conviene eliminarlos de la dieta, sino que la recomendación es moderar las porciones y raciones semanales.\\r\\n\\r\\nLa cerveza también resulta perjudicial, incluso cuando es sin alcohol. Esto se debe a que aumenta la producción de los niveles de ácido úrico y, además, dificulta la eliminación.\\r\\n\\r\\nLos embutidos tampoco son recomendados, al igual que las carnes rojas. Lo aconsejable es minimizar su consumo pues, en general, no son muy saludables para el organismo.'"
            ],
            "application/vnd.google.colaboratory.intrinsic+json": {
              "type": "string"
            }
          },
          "metadata": {},
          "execution_count": 36
        }
      ]
    },
    {
      "cell_type": "code",
      "source": [
        "# Texto a resumir\n",
        "texto = train_data[\"news_text_content\"][picked_new]\n"
      ],
      "metadata": {
        "id": "V7pPCzX4sIzR"
      },
      "execution_count": null,
      "outputs": []
    },
    {
      "cell_type": "code",
      "source": [
        "def summarize_text(texto, show_summary=False):\n",
        "  \"\"\"\n",
        "  This function helps to summarize a text\n",
        "  params:\n",
        "  - texto: the text to summarize\n",
        "  returns:\n",
        "  - the summary of the text\n",
        "  \"\"\"\n",
        "  INITIAL_PROMPT:str = \"Resume lo principal de este texto: \"\n",
        "  PROMPT_LEN:int = len(INITIAL_PROMPT)\n",
        "\n",
        "  # Tokenizar el texto\n",
        "  print('Generating Input Tokens')\n",
        "  inputs = tokenizer.encode(\n",
        "      \"Resume lo principal de este texto: \" + texto,\n",
        "      return_tensors=\"pt\",\n",
        "      max_length=128,\n",
        "      truncation=True\n",
        "      ).to(device)\n",
        "\n",
        "  # Generar el resumen\n",
        "  print('Generating Summary')\n",
        "  resumen_ids = model.generate(\n",
        "      inputs,\n",
        "      max_length=256,\n",
        "      min_length=24,\n",
        "      length_penalty=3.0,\n",
        "      num_beams=4,\n",
        "      early_stopping=True\n",
        "      )\n",
        "\n",
        "  # Decodificar\n",
        "  print('Decoding Summary')\n",
        "  resumen = tokenizer.decode(resumen_ids[0], skip_special_tokens=True)\n",
        "  clean_resumen = resumen[PROMPT_LEN:]\n",
        "\n",
        "  print('Done :D\\n')\n",
        "\n",
        "  if show_summary:\n",
        "    print(f'Palabras: {len(clean_resumen)}')\n",
        "    print(f'Resumen: \\n {clean_resumen}')\n",
        "\n",
        "  resumen_ratio = len(clean_resumen)/len(texto)\n",
        "  print(f'Resumen Ratio: {resumen_ratio}')\n",
        "\n",
        "  return clean_resumen"
      ],
      "metadata": {
        "id": "7ZsgBL4jVtK8"
      },
      "execution_count": null,
      "outputs": []
    },
    {
      "cell_type": "code",
      "source": [
        "prompt_len:int = len(\"Resume lo principal de este texto: \")"
      ],
      "metadata": {
        "id": "FPja-OoK_vri"
      },
      "execution_count": null,
      "outputs": []
    },
    {
      "cell_type": "code",
      "source": [
        "# Tokenizar el texto\n",
        "inputs = tokenizer.encode(\n",
        "    \"Resume lo principal de este texto: \" + texto,\n",
        "    return_tensors=\"pt\",\n",
        "    max_length=128,\n",
        "    truncation=True\n",
        "    ).to(device)\n"
      ],
      "metadata": {
        "id": "5XZAX4zi8ojy"
      },
      "execution_count": null,
      "outputs": []
    },
    {
      "cell_type": "code",
      "source": [
        "# Generar el resumen\n",
        "resumen_ids = model.generate(\n",
        "    inputs,\n",
        "    max_length=256,\n",
        "    min_length=24,\n",
        "    length_penalty=3.0,\n",
        "    num_beams=4,\n",
        "    early_stopping=True\n",
        "    )\n"
      ],
      "metadata": {
        "id": "HvePY4WR6oC1"
      },
      "execution_count": null,
      "outputs": []
    },
    {
      "cell_type": "code",
      "source": [
        "# Decodificar\n",
        "resumen = tokenizer.decode(resumen_ids[0], skip_special_tokens=True, clean_up_tokenization_spaces=True)\n"
      ],
      "metadata": {
        "id": "NpHnUca46owY"
      },
      "execution_count": null,
      "outputs": []
    },
    {
      "cell_type": "code",
      "source": [
        "# Mostrar el resumen\n",
        "print(f'Palabras: {len(resumen)}')\n",
        "resumen"
      ],
      "metadata": {
        "colab": {
          "base_uri": "https://localhost:8080/",
          "height": 217
        },
        "id": "7LpQ0ZLd9A4g",
        "outputId": "2f1016af-be90-488f-9404-bad5493f620f"
      },
      "execution_count": null,
      "outputs": [
        {
          "output_type": "stream",
          "name": "stdout",
          "text": [
            "Palabras: 810\n"
          ]
        },
        {
          "output_type": "execute_result",
          "data": {
            "text/plain": [
              "'Resume lo principal de este texto: Cuando los niveles de ácido úrico son elevados pueden generar cristales en las articulaciones, a lo que se le conoce como gota.\\r\\n\\r\\nLos factores por los que aumenta el nivel de ácido úrico en la sangre\\r\\n\\r\\nEl ácido úrico es un químico que se genera cuando el cuerpo descompone unas sustancias llamadas purinas, que normalmente se encuentran en el organismo, pero también en algunos alimentos y bebidas, precisa la Biblioteca Nacional de Medicina de los EE. UU.\\r\\n\\r\\nLos niveles de ácido úrico en la sangre pueden aumentar por muchas razones, incluyendo:\\r\\n\\r\\n1. La diabetes\\r\\n2. La enfermedad renal crónica\\r\\n3. La enfermedad hepática crónica\\r\\n4. El alcoholismo\\r\\n5. La obesidad\\r\\n6. La hipertensión\\r\\n7. Los medicamentos\\r\\n\\r\\nLos niveles de ácido úrico en la sangre también pueden aument'"
            ],
            "application/vnd.google.colaboratory.intrinsic+json": {
              "type": "string"
            }
          },
          "metadata": {},
          "execution_count": 55
        }
      ]
    },
    {
      "cell_type": "code",
      "source": [
        "picked_new:int = 4\n",
        "show_text:bool = True\n",
        "new_text:str = pick_new(df_train,picked_new, show_text)"
      ],
      "metadata": {
        "colab": {
          "base_uri": "https://localhost:8080/"
        },
        "collapsed": true,
        "id": "0wLaZmTwXmQl",
        "outputId": "49b0bc30-47f6-42c6-a9f2-f36bc313e7ba"
      },
      "execution_count": null,
      "outputs": [
        {
          "output_type": "stream",
          "name": "stdout",
          "text": [
            "me dirán que, ante el malismo de otros, bienvenido sea el buenismo de zapatero. como mínimo el presidente viaja por el mundo con la mochila de las buenas intenciones, y, arropado en su vocación de mafalda, se va a la onu a pedir que salvemos el mundo. es cierto que después sus discursos no aterrizan en la antipática concreción de los proyectos, sino que navegan libres por la vacuidad de la retórica, pero eso es menor porque, al fin y al cabo, ¿quién cree, a estas alturas, que la onu sirva para algo más que para lucirse con la oratoria? no es que la entrañable institución haya fracasado nuevamente en su intento de reforma, es que es un organismo caduco, secuestrado por las decenas de dictaduras que la componen, las cuales consiguen blanquear su pesada carga tiránica gracias a la legitimidad que les da la asamblea general. en la onu, los países que vulneran todos los derechos fundamentales, los que alimentan y potencian el terrorismo, los que convierten a sus mujeres en esclavas, los que usan su riqueza para consolidar ideologías fascistas, todos ellos, cómodamente sentados, se convierten en estados legítimos. hace ya muchas décadas que la onu fracasó en su misión de preservar el derecho internacional. hoy, más que faro vigilante, es el balneario donde se blanquea la destrucción sistemática de todo derecho fundamental. de manera que puede que esté bien eso de ir a la onu y decir grandes verdades, aunque sea para mantener entrenada la mala conciencia. a pesar de todo, si me permiten, personalmente me cansa un poco esa tendencia al sermoneo paternalista que le da a zapatero cuando le ponen un micrófono internacional. sermoneo que después no equivale a una política social y solidaria realmente comprometida en el interior de casa, aunque en eso zapatero no es único. sin ir más lejos, ese paradigma de la progresía mundial, lula, sabe mucho de ello.sin embargo, más allá de los discursos bienintencionados que ya conforman la marca de la casa zp, empieza a cuajar como idea fuerza, en coproducción con el presidente turco, recep tayyip erdogan, el concepto de alianza de civilizaciones, nacido sin duda como contraposición al manido concepto del choque de civilizaciones huntingtoniano. y volvemos al buenismo. sin duda, entre una concepción de confrontación entre culturas, y una que habla de alianzas, pactos y amor universal, la gente de bien se queda con esta última. zp no sólo tiene la simpatía celestial con su idea, sino que parece el hombre razonable ante la irracionalidad y la exclusión. ahí están, si no, los elogios de unos especialmente entusiastas los de las dictaduras islámicas, el apoyo de otros y hasta el bueno de kofi annan apadrinando personalmente la idea. huelga decir que he combatido la idea del choque de civilizaciones en múltiples artículos, no sólo porque la considero falaz y peligrosa, sino porque además resulta estéril. pero pasar del concepto de choque al concepto de alianza sin otro matiz que el amor por la diversidad exótica y el qué bonitos somos, tan distintos y tan amigos, me parece igualmente falaz, peligroso y estéril. creo que zp ha elaborado un buen titular mediático sin otro contenido que el que encontramos en la fiesta de la diversidad o en el fórum de porto alegre, cuya propensión para el acriticismo y el paternalismo tercermundista son de antología. ¿qué significa la alianza de civilizaciones? ¿significa que consideramos como propio de la civilización islámica la falta de derechos fundamentales, el machismo esclavista o la concepción teocrática de las leyes? eso no sólo se carga de un plumazo a todos los opositores de las tiranías al uso, sino que legitima, como natural, a todos los tiranos que reinan con impunidad coránica. lo cual obliga a una segunda pregunta fundamental. ¿la alianza de civilizaciones se produce con los ciudadanos que no tienen organismos democráticos de representación o con sus representantes políticos, la absoluta mayoría de los cuales no lo son gracias a su cultura democrática? y si el padrino de la cosa es kofi annan, ¿significa que una organización que no ha emitido ni una sola resolución contra los países que esclavizan a la mujer que da la manita a países que exportan el terrorismo, como irán que no se preocupa por la quema de sinagogas pero levanta el dedito cada día contra el malvado sionismo la pesada herencia soviética resta inmutable, y que en definitiva legitima a todas las dictaduras del mundo, será el árbitro de tan singular alianza? personalmente estoy dispuesta y encantada de la vida de aliarme con una mujer musulmana que ha sido condenada a lapidación. o con los opositores a la tiranía iraní de ahmadinejad, o con los periodistas que luchan contra la dictadura marroquí. pero la idea de una alianza genérica, sin otro matiz que el buenismo solidario y que, lejos de situar el problema en la falta brutal de democracia en el islam, lo sitúa en la abstracción retórica, no sólo no es útil, sino que me resulta perverso. más que luchar contra las tiranías, las consolida como interlocutoras. la única alianza posible está escrita en la carta de derechos fundamentales, y más allá de las religiones, los usos y las costumbres de los pueblos, su vulneración no es moneda de cambio. la mano a favor del islam sólo puede ser aquella que señale el corazón del problema, que denuncie el uso de una religión para esclavizar y fanatizar, aquella que no considere natural la falta de libertad. todo ello no lo leo en la letra pequeña de la propuesta de zp. si el choque de civilizaciones me pareció una barbaridad, la alianza de zapatero me parece un puro recurso retórico, más henchido de protagonismo mediático que capaz de ahondar en los problemas de fondo. ¿quieren alianza? aliémonos con la democracia, denunciemos la falta de libertad en nombre del islam, saquemos los colores a las dictaduras en el foro de la onu, expliquemos que el enemigo de una cultura es aquel que la usa para fanatizar y matar. pero si no hacemos nada de esto, estamos legitimando como si fuera civilización distinta aquello que resulta ser pura tiranía. huntington me pareció, en su momento, perverso. zp me parece simple. y los dos, lamentablemente, juegan con fuego.\n",
            "Palabras: 6180\n"
          ]
        }
      ]
    },
    {
      "cell_type": "code",
      "source": [
        "show_summary:bool = True\n",
        "summarize_text(new_text, show_summary)\n",
        "print('')"
      ],
      "metadata": {
        "colab": {
          "base_uri": "https://localhost:8080/"
        },
        "id": "6-iPOv29YMDi",
        "outputId": "fed69a6b-314b-4b78-f6e1-01f5f8ba905b"
      },
      "execution_count": null,
      "outputs": [
        {
          "output_type": "stream",
          "name": "stdout",
          "text": [
            "Generating Input Tokens\n",
            "Generating Summary\n",
            "Decoding Summary\n",
            "Done :D\n",
            "\n",
            "Palabras: 213\n",
            "Resumen: \n",
            " el mundo con la mochila de las buenas intenciones, y, arropado en su vocación de mafalda, se va a la onu a pedir que salvemos el mundo con la mochila de las buenas intenciones, se va a la onu a pedir que salvemos \n",
            "Resumen Ratio: 0.03446601941747573\n",
            "\n"
          ]
        }
      ]
    },
    {
      "cell_type": "markdown",
      "source": [
        "## Evaluacion Resumen"
      ],
      "metadata": {
        "id": "Rfb1GqcnB2P-"
      }
    },
    {
      "cell_type": "code",
      "source": [
        "# Resumenes\n",
        "\n",
        "# Example reference summaries (replace with actual reference summaries)\n",
        "reference_summaries = [\n",
        "    \"Elianis Garrido se casó en secreto en la playa de Barranquilla con el empresario Álvaro Navarro. La presentadora compartió fotos del evento, mostrando un ambiente íntimo y familiar. Con un vestido blanco y zapatos verdes, celebró con alegría. La boda incluyó una parranda, y los invitados publicaron videos del festejo. La noticia ha generado múltiples felicitaciones en redes.\",\n",
        "    \"La moda española ha atravesado una década de altibajos, con la crisis económica y la pandemia impactando duramente el sector. Tras la caída del volumen de negocio a la mitad desde 2011, el slow fashion ha emergido como alternativa sostenible. Diseñadores como Palomo Spain, Leandro Cano y Teresa Helbig han sabido adaptarse, mientras que las redes sociales han impulsado marcas nicho. Sin embargo, la inestabilidad financiera sigue afectando a creadores como Daniel Rabaneda y Josep Font. Mientras tanto, figuras como Marta Ortega ganan protagonismo en la escena global.\",\n",
        "    \"Carolina Soto, codirectora del Banco de la República, analizó la gestión económica de Colombia durante la pandemia y los desafíos de 2021 en *Perspectivas Colombia 2021*. Destacó el acceso a financiamiento externo en condiciones favorables y la estabilidad macroeconómica del país. El Banco Central implementó medidas no tradicionales para sostener el crédito. Se proyecta una contracción del PIB de cerca del 7% en 2020 y un crecimiento entre 3% y 7% en 2021. Los principales retos incluyen garantizar la sostenibilidad de la deuda mediante una reforma fiscal gradual, corregir problemas estructurales en el mercado laboral y monitorear riesgos en el sector financiero.\",\n",
        "    \"El ácido úrico se genera al descomponer purinas presentes en el cuerpo y en alimentos como carnes rojas, mariscos y bebidas azucaradas. Si el cuerpo no lo elimina adecuadamente, puede acumularse y formar cristales en las articulaciones, causando gota. Factores como dieta, genética, obesidad, alcohol, ciertos medicamentos y enfermedades como hipotiroidismo e insuficiencia renal pueden elevar sus niveles. Para evitarlo, se recomienda moderar el consumo de alimentos ricos en purinas, reducir el alcohol y mantener un estilo de vida saludable.\",\n",
        "    \"El artículo de Pilar Rahola critica la \\\"Alianza de Civilizaciones\\\" de Zapatero, calificándola de retórica vacía que no enfrenta los problemas reales de democracia y derechos humanos. Argumenta que legitima dictaduras en lugar de denunciarlas y cuestiona la eficacia de la ONU, que considera un foro donde regímenes autoritarios buscan validación. Rahola rechaza tanto el \\\"choque de civilizaciones\\\" de Huntington como el idealismo de Zapatero, abogando por una alianza basada en la defensa de la democracia y los derechos fundamentales en lugar de acuerdos abstractos sin consecuencias reales.\",\n",
        "    \"Shakira ha resurgido con su sencillo *Monotonía*, mientras que Clara Chía enfrenta una crisis personal por la presión mediática tras la canción. Según el periodista Jordi Martin, la joven ha optado por el teletrabajo y evita la exposición pública. Piqué tampoco atraviesa su mejor momento: su empresa Kosmos enfrenta dificultades y un proyecto inmobiliario suyo en Málaga ha sido retrasado por el hallazgo de una necrópolis musulmana. La situación ha llevado a la prensa a señalar su “mala racha”, marcada por problemas personales, profesionales y la polémica con Shakira.\",\n",
        "    \"Una brecha digital en un servidor privado expuso datos sensibles de millones de ecuatorianos. El Gobierno atribuyó la filtración a dos exfuncionarios que habrían sustraído información estatal. La empresa de seguridad vpnMentor alertó sobre la vulnerabilidad el 11 de septiembre, señalando que al menos seis entidades públicas se vieron afectadas. Aunque no se ha confirmado el uso indebido de los datos, expertos advierten sobre riesgos de suplantación de identidad. En respuesta, el Gobierno aceleró la aprobación de una ley de Protección de Datos para reforzar la seguridad de la información ciudadana.\",\n",
        "    \"Moody’s cambió la perspectiva de la calificación de Ecuador de estable a negativa, manteniendo la nota B3 a largo plazo. La decisión se debe al riesgo de liquidez antes de los pagos de deuda y al difícil acceso al mercado, con altos costos de endeudamiento. Aunque el financiamiento multilateral podría ayudar, sin reformas macroeconómicas más firmes, no sería suficiente. A pesar del deterioro fiscal, Ecuador mantiene mayor solidez que países con calificación similar. Además, la calificación del bono 2030 sigue en C, reflejando reclamos pendientes del canje de 2009. Los techos de calificación en moneda extranjera permanecen sin cambios.\",\n",
        "    \"Durante la grabación de El pasado no perdona, la relación entre los actores Marlon Moreno y Andrea Nocetti se volvió tensa. Nocetti confrontó a Moreno por su actitud distante, y él le respondió de manera despectiva. La situación escaló cuando Moreno, furioso, la golpeó en el rostro, lo que causó conmoción en el set. Aunque Nocetti no lo demandó, sí interpuso una caución. La producción modificó escenas para minimizar su contacto, pero ella no recibió mucho apoyo. A pesar de incidentes como este, las novelas colombianas siguen siendo exitosas y han dejado una huella en la industria audiovisual.\",\n",
        "    \"Lincoln Palomeque, tras su ruptura con Carolina Cruz, reveló en una entrevista que busca una mujer auténtica, con personalidad y una mirada especial. Mientras tanto, Cruz compartió reflexiones sobre el amor y la libertad en redes, lo que algunos tomaron como indirectas hacia él. A pesar de la separación, mantienen una relación cordial por sus hijos. Palomeque le dedicó un mensaje a Cruz en el Día de la Madre, destacando su labor como madre. Por su parte, Cruz publicó una emotiva reflexión sobre la maternidad y la fortaleza que sus hijos le han dado.\"\n",
        "]\n"
      ],
      "metadata": {
        "id": "Cogf8sTpCKnh"
      },
      "execution_count": null,
      "outputs": []
    },
    {
      "cell_type": "code",
      "source": [
        "def generate_summaries(df_train, num_summaries=10):\n",
        "    summaries = []\n",
        "    for i in range(num_summaries):\n",
        "        texto = pick_new(df_train, i)\n",
        "        summary = summarize_text(texto,False)\n",
        "        summaries.append(summary)\n",
        "    return summaries\n"
      ],
      "metadata": {
        "id": "jAHTVfBORtWq"
      },
      "execution_count": null,
      "outputs": []
    },
    {
      "cell_type": "code",
      "source": [
        "resumenes = generate_summaries(df_train, num_summaries=10)"
      ],
      "metadata": {
        "colab": {
          "base_uri": "https://localhost:8080/"
        },
        "id": "3oSGjuYRRyw5",
        "outputId": "e5ae28b5-3c4e-4b04-eadd-b762d91e858f"
      },
      "execution_count": null,
      "outputs": [
        {
          "output_type": "stream",
          "name": "stdout",
          "text": [
            "Generating Input Tokens\n",
            "Generating Summary\n",
            "Decoding Summary\n",
            "Done :D\n",
            "\n",
            "Resumen Ratio: 0.09460025115110925\n",
            "Generating Input Tokens\n",
            "Generating Summary\n",
            "Decoding Summary\n",
            "Done :D\n",
            "\n",
            "Resumen Ratio: 0.024434389140271493\n",
            "Generating Input Tokens\n",
            "Generating Summary\n",
            "Decoding Summary\n",
            "Done :D\n",
            "\n",
            "Resumen Ratio: 0.1\n",
            "Generating Input Tokens\n",
            "Generating Summary\n",
            "Decoding Summary\n",
            "Done :D\n",
            "\n",
            "Resumen Ratio: 0.0545410860163383\n",
            "Generating Input Tokens\n",
            "Generating Summary\n",
            "Decoding Summary\n",
            "Done :D\n",
            "\n",
            "Resumen Ratio: 0.03446601941747573\n",
            "Generating Input Tokens\n",
            "Generating Summary\n",
            "Decoding Summary\n",
            "Done :D\n",
            "\n",
            "Resumen Ratio: 0.0130475302889096\n",
            "Generating Input Tokens\n",
            "Generating Summary\n",
            "Decoding Summary\n",
            "Done :D\n",
            "\n",
            "Resumen Ratio: 0.03484513274336283\n",
            "Generating Input Tokens\n",
            "Generating Summary\n",
            "Decoding Summary\n",
            "Done :D\n",
            "\n",
            "Resumen Ratio: 0.14490603363006924\n",
            "Generating Input Tokens\n",
            "Generating Summary\n",
            "Decoding Summary\n",
            "Done :D\n",
            "\n",
            "Resumen Ratio: 0.07033822208919485\n",
            "Generating Input Tokens\n",
            "Generating Summary\n",
            "Decoding Summary\n",
            "Done :D\n",
            "\n",
            "Resumen Ratio: 0.06450742240215925\n"
          ]
        }
      ]
    },
    {
      "cell_type": "code",
      "source": [
        "# ## Evaluacion Resumen\n",
        "\n",
        "# Initialize ROUGE scorer\n",
        "scorer = rouge_scorer.RougeScorer(['rouge1', 'rougeL'], use_stemmer=True)"
      ],
      "metadata": {
        "id": "qRhMoYy_B5Ai"
      },
      "execution_count": null,
      "outputs": []
    },
    {
      "cell_type": "code",
      "source": [
        "# Calculate ROUGE scores\n",
        "all_scores = [scorer.score(resumenes[i], ref) for i,ref in enumerate(reference_summaries)]"
      ],
      "metadata": {
        "id": "xsnXKLdDCVBN"
      },
      "execution_count": null,
      "outputs": []
    },
    {
      "cell_type": "code",
      "source": [
        "# Print ROUGE scores\n",
        "print(\"ROUGE Scores:\")\n",
        "all_scores"
      ],
      "metadata": {
        "id": "tNbm2G8pCYnE",
        "colab": {
          "base_uri": "https://localhost:8080/"
        },
        "outputId": "3620c948-8d24-4292-f27f-783bda0fd995"
      },
      "execution_count": null,
      "outputs": [
        {
          "output_type": "stream",
          "name": "stdout",
          "text": [
            "ROUGE Scores:\n"
          ]
        },
        {
          "output_type": "execute_result",
          "data": {
            "text/plain": [
              "[{'rouge1': Score(precision=0.23333333333333334, recall=0.32558139534883723, fmeasure=0.2718446601941748),\n",
              "  'rougeL': Score(precision=0.13333333333333333, recall=0.18604651162790697, fmeasure=0.15533980582524273)},\n",
              " {'rouge1': Score(precision=0.06451612903225806, recall=0.23076923076923078, fmeasure=0.10084033613445378),\n",
              "  'rougeL': Score(precision=0.053763440860215055, recall=0.19230769230769232, fmeasure=0.08403361344537814)},\n",
              " {'rouge1': Score(precision=0.24545454545454545, recall=0.6, fmeasure=0.34838709677419355),\n",
              "  'rougeL': Score(precision=0.15454545454545454, recall=0.37777777777777777, fmeasure=0.2193548387096774)},\n",
              " {'rouge1': Score(precision=0.2839506172839506, recall=0.5476190476190477, fmeasure=0.3739837398373984),\n",
              "  'rougeL': Score(precision=0.13580246913580246, recall=0.2619047619047619, fmeasure=0.17886178861788618)},\n",
              " {'rouge1': Score(precision=0.1702127659574468, recall=0.36363636363636365, fmeasure=0.23188405797101447),\n",
              "  'rougeL': Score(precision=0.13829787234042554, recall=0.29545454545454547, fmeasure=0.18840579710144928)},\n",
              " {'rouge1': Score(precision=0.06862745098039216, recall=0.4666666666666667, fmeasure=0.11965811965811968),\n",
              "  'rougeL': Score(precision=0.049019607843137254, recall=0.3333333333333333, fmeasure=0.08547008547008546)},\n",
              " {'rouge1': Score(precision=0.18811881188118812, recall=0.59375, fmeasure=0.28571428571428575),\n",
              "  'rougeL': Score(precision=0.1485148514851485, recall=0.46875, fmeasure=0.22556390977443605)},\n",
              " {'rouge1': Score(precision=0.29464285714285715, recall=0.66, fmeasure=0.40740740740740744),\n",
              "  'rougeL': Score(precision=0.1875, recall=0.42, fmeasure=0.2592592592592593)},\n",
              " {'rouge1': Score(precision=0.11538461538461539, recall=0.3157894736842105, fmeasure=0.16901408450704222),\n",
              "  'rougeL': Score(precision=0.057692307692307696, recall=0.15789473684210525, fmeasure=0.08450704225352111)},\n",
              " {'rouge1': Score(precision=0.16161616161616163, recall=0.35555555555555557, fmeasure=0.22222222222222227),\n",
              "  'rougeL': Score(precision=0.1111111111111111, recall=0.24444444444444444, fmeasure=0.15277777777777776)}]"
            ]
          },
          "metadata": {},
          "execution_count": 41
        }
      ]
    },
    {
      "cell_type": "code",
      "source": [
        "# Calculate average ROUGE-1 recall across all references\n",
        "avg_rouge1_recall = sum([scores['rouge1'].recall for scores in all_scores]) / len(all_scores)\n",
        "print(f\"Average ROUGE-1 Recall: {avg_rouge1_recall}\")\n"
      ],
      "metadata": {
        "id": "_PVzI1M0QTRt",
        "colab": {
          "base_uri": "https://localhost:8080/"
        },
        "outputId": "3bc030c0-5dff-404c-bda9-ec33b54b16a9"
      },
      "execution_count": null,
      "outputs": [
        {
          "output_type": "stream",
          "name": "stdout",
          "text": [
            "Average ROUGE-1 Recall: 0.4459367733279912\n"
          ]
        }
      ]
    },
    {
      "cell_type": "code",
      "source": [
        "import matplotlib.pyplot as plt\n",
        "\n",
        "# Extract ROUGE-1 and ROUGE-L recall scores\n",
        "rouge1_recall_scores = [scores['rouge1'].recall for scores in all_scores]\n",
        "rougeL_recall_scores = [scores['rougeL'].recall for scores in all_scores]\n",
        "\n",
        "# Create the plot\n",
        "plt.figure(figsize=(10, 6))\n",
        "plt.plot(rouge1_recall_scores, label='ROUGE-1 Recall', marker='o')\n",
        "plt.plot(rougeL_recall_scores, label='ROUGE-L Recall', marker='x')\n",
        "\n",
        "# Customize the plot\n",
        "plt.xlabel('Summary Index')\n",
        "plt.ylabel('Recall Score')\n",
        "plt.title('ROUGE Scores for Generated Summaries')\n",
        "plt.legend()\n",
        "plt.grid(True)\n",
        "plt.show()\n"
      ],
      "metadata": {
        "colab": {
          "base_uri": "https://localhost:8080/",
          "height": 564
        },
        "id": "lea7jjYKSNzz",
        "outputId": "6da57f82-e857-480e-b82d-1275d8f4992b"
      },
      "execution_count": null,
      "outputs": [
        {
          "output_type": "display_data",
          "data": {
            "text/plain": [
              "<Figure size 1000x600 with 1 Axes>"
            ],
            "image/png": "[encoded data removed]"
          },
          "metadata": {}
        }
      ]
    },
    {
      "cell_type": "markdown",
      "source": [
        "## Análisis General de las Métricas\n",
        "\n",
        "### ROUGE-1 (unigramas):\n",
        "\n",
        "- Promedio de la precisión de ROUGE-1 en los resúmenes generados varía entre un 0.06 y 0.29. Esto indica que el modelo, en promedio, tiene una precisión moderada para capturar los unigramas presentes en los resúmenes de referencia.\n",
        "- Promedio de recall de ROUGE-1 va de 0.23 a 0.66, lo que sugiere que el modelo es más capaz de identificar las palabras clave presentes en los resúmenes de referencia, aunque no siempre logra capturarlas todas.\n",
        "- Promedio del F1-score de ROUGE-1 se encuentra entre 0.08 y 0.41, lo que sugiere que, aunque el modelo tiene un rendimiento variable, en general está moderadamente bien equilibrado en precisión y recall.\n",
        "\n",
        "### ROUGE-L (subsecuencia más larga común):\n",
        "\n",
        "- Promedio de la precisión de ROUGE-L varía entre 0.05 y 0.19, lo que indica que el modelo tiene un rendimiento bajo en cuanto a la captura de la subsecuencia más larga común entre los resúmenes generados y los de referencia.- Promedio de recall de ROUGE-L también varía entre 0.16 y 0.47, lo que sugiere que el modelo es capaz de recuperar una parte de la subsecuencia más larga, pero no siempre la captura completamente.\n",
        "- Promedio del F1-score de ROUGE-L varía entre 0.08 y 0.26, lo que refleja que la calidad del modelo en términos de subsecuencias comunes podría mejorar significativamente."
      ],
      "metadata": {
        "id": "KJoZ1xQRdPIk"
      }
    },
    {
      "cell_type": "markdown",
      "source": [
        "## Conclusiones\n",
        "\n",
        "### Variabilidad en el Rendimiento:\n",
        "\n",
        "Existen diferencias notables en las métricas de cada entrada, lo que puede reflejar una inconsistencia en la calidad de los resúmenes generados por el modelo. Por ejemplo, algunos resúmenes tienen valores de ROUGE-1 F1 cerca de 0.4, mientras que otros están por debajo de 0.1.\n",
        "Esto sugiere que el modelo podría estar funcionando bien en ciertos casos pero con dificultades para generalizar en otros.\n",
        "\n",
        "### Posible Sobregeneralización:\n",
        "\n",
        "La precisión baja en ROUGE-1 junto con un recall más alto en algunas métricas podría indicar que el modelo tiende a identificar muchas palabras relevantes (recall alto), pero solo una pequeña parte de ellas es exacta (precisión baja). Esto podría ser indicativo de que el modelo produce resúmenes muy largos o imprecisos.\n",
        "\n",
        "### Bajo Rendimiento en ROUGE-L:\n",
        "\n",
        "El desempeño en ROUGE-L, que evalúa las subsecuencias más largas, es generalmente más bajo que en ROUGE-1. Esto podría indicar que el modelo no está capturando las estructuras subyacentes del texto de forma efectiva o que no está manteniendo la coherencia entre las palabras clave.\n"
      ],
      "metadata": {
        "id": "nFXjzIQRdgUK"
      }
    },
    {
      "cell_type": "markdown",
      "source": [
        "## Recomendaciones para Mejorar el Modelo\n",
        "\n",
        "1. Ajustar el modelo\n",
        "2. Uso de más datos de entrenamiento\n",
        "3. Optimización de la calidad de los resúmenes:\n",
        "4. Evaluación de otras métricas:"
      ],
      "metadata": {
        "id": "UPhwEkpYduu4"
      }
    },
    {
      "cell_type": "code",
      "source": [
        "# prompt: De las conclusiones anteriores y el analisis de metricas, por favor, haz un texto de 2 parrafos\n",
        "\n"
      ],
      "metadata": {
        "id": "QeZyTSuglq-u"
      },
      "execution_count": null,
      "outputs": []
    }
  ]
}